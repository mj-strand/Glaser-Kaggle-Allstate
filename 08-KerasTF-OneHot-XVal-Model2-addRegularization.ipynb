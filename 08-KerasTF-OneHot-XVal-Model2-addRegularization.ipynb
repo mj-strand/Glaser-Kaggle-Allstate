{
 "cells": [
  {
   "cell_type": "code",
   "execution_count": 57,
   "metadata": {
    "collapsed": false
   },
   "outputs": [
    {
     "name": "stdout",
     "output_type": "stream",
     "text": [
      "The scikit-learn version is 0.18.\n"
     ]
    }
   ],
   "source": [
    "import pandas as pd\n",
    "import numpy as np\n",
    "import matplotlib.pyplot as plt\n",
    "import sklearn\n",
    "from __future__ import absolute_import, division, print_function\n",
    "from keras.models import Sequential\n",
    "from keras.layers import Dense, Dropout, Activation\n",
    "from keras.regularizers import l2\n",
    "from keras.wrappers.scikit_learn import KerasRegressor\n",
    "from sklearn.pipeline import Pipeline\n",
    "from sklearn.preprocessing import StandardScaler\n",
    "from sklearn.model_selection import cross_val_score\n",
    "from sklearn.model_selection import KFold\n",
    "from sklearn.metrics import mean_absolute_error\n",
    "from keras.layers.advanced_activations import SReLU\n",
    "print('The scikit-learn version is {}.'.format(sklearn.__version__))"
   ]
  },
  {
   "cell_type": "code",
   "execution_count": 58,
   "metadata": {
    "collapsed": false
   },
   "outputs": [
    {
     "name": "stdout",
     "output_type": "stream",
     "text": [
      "training:  (188318, 132)\n",
      "test:  (125546, 131)\n"
     ]
    }
   ],
   "source": [
    "#Load the training and test files\n",
    "df_train = pd.read_csv('../input/train.csv')\n",
    "df_test = pd.read_csv('../input/test.csv')\n",
    "print('training: ', df_train.shape)\n",
    "print('test: ', df_test.shape)"
   ]
  },
  {
   "cell_type": "code",
   "execution_count": 59,
   "metadata": {
    "collapsed": false
   },
   "outputs": [],
   "source": [
    "cols = df_train.columns\n",
    "cols_test = df_test.columns "
   ]
  },
  {
   "cell_type": "code",
   "execution_count": 60,
   "metadata": {
    "collapsed": false
   },
   "outputs": [],
   "source": [
    "#Convert to Numpy arrays and separate features/targets\n",
    "# X_train = df_train.as_matrix()\n",
    "X_train = df_train\n",
    "y_train = X_train[cols[-1]]\n",
    "X_train = X_train[cols[1:-1]]\n",
    "\n",
    "# X_test = df_test.as_matrix()\n",
    "X_test = df_test\n",
    "X_test = X_test[cols_test[1:]]\n",
    "\n",
    "cols = X_train.columns\n",
    "cols_test = X_test.columns \n"
   ]
  },
  {
   "cell_type": "code",
   "execution_count": null,
   "metadata": {
    "collapsed": false
   },
   "outputs": [],
   "source": []
  },
  {
   "cell_type": "code",
   "execution_count": 61,
   "metadata": {
    "collapsed": false
   },
   "outputs": [],
   "source": [
    "#Variable to hold the list of labels for all category features in the train and test data\n",
    "labels = []\n",
    "\n",
    "for i in range(0,116):\n",
    "    train = X_train[cols[i]].unique()\n",
    "    test = X_test[cols[i]].unique()\n",
    "    labels.append(list(set(train) | set(test)))    \n"
   ]
  },
  {
   "cell_type": "code",
   "execution_count": 62,
   "metadata": {
    "collapsed": false
   },
   "outputs": [
    {
     "name": "stdout",
     "output_type": "stream",
     "text": [
      "(188318, 1176)\n",
      "(188318, 1190)\n"
     ]
    }
   ],
   "source": [
    "#Import OneHotEncoder\n",
    "from sklearn.preprocessing import LabelEncoder\n",
    "from sklearn.preprocessing import OneHotEncoder\n",
    "\n",
    "#One hot encode all categorical features - training set\n",
    "cats = []\n",
    "for i in range(0, 116):\n",
    "    #Label encode\n",
    "    label_encoder = LabelEncoder()\n",
    "    label_encoder.fit(labels[i])\n",
    "    feature = label_encoder.transform(X_train.iloc[:,i])\n",
    "    feature = feature.reshape(X_train.shape[0], 1)\n",
    "    #One hot encode\n",
    "    onehot_encoder = OneHotEncoder(sparse=False,n_values=len(labels[i]))\n",
    "    feature = onehot_encoder.fit_transform(feature)\n",
    "    cats.append(feature)\n",
    "\n",
    "# Make a 2D array from a list of 1D arrays\n",
    "encoded_cats = np.column_stack(cats)\n",
    "\n",
    "# Print the shape of the encoded data\n",
    "print(encoded_cats.shape)\n",
    "\n",
    "#Concatenate encoded attributes with continuous attributes\n",
    "X_train = np.concatenate((encoded_cats,X_train.iloc[:,116:].values),axis=1)\n",
    "del cats\n",
    "del feature\n",
    "\n",
    "del encoded_cats\n",
    "print(X_train.shape)"
   ]
  },
  {
   "cell_type": "code",
   "execution_count": 63,
   "metadata": {
    "collapsed": false
   },
   "outputs": [
    {
     "name": "stdout",
     "output_type": "stream",
     "text": [
      "(125546, 1176)\n",
      "(125546, 1190)\n"
     ]
    }
   ],
   "source": [
    "#One hot encode all categorical features - test set\n",
    "cats = []\n",
    "for i in range(0, 116):\n",
    "    #Label encode\n",
    "    label_encoder = LabelEncoder()\n",
    "    label_encoder.fit(labels[i])\n",
    "    feature = label_encoder.transform(X_test.iloc[:,i])\n",
    "    feature = feature.reshape(X_test.shape[0], 1)\n",
    "    #One hot encode\n",
    "    onehot_encoder = OneHotEncoder(sparse=False,n_values=len(labels[i]))\n",
    "    feature = onehot_encoder.fit_transform(feature)\n",
    "    cats.append(feature)\n",
    "\n",
    "# Make a 2D array from a list of 1D arrays\n",
    "encoded_cats = np.column_stack(cats)\n",
    "\n",
    "# Print the shape of the encoded data\n",
    "print(encoded_cats.shape)\n",
    "\n",
    "#Concatenate encoded attributes with continuous attributes\n",
    "X_test = np.concatenate((encoded_cats,X_test.iloc[:,116:].values),axis=1)\n",
    "del cats\n",
    "del feature\n",
    "\n",
    "del encoded_cats\n",
    "print(X_test.shape)"
   ]
  },
  {
   "cell_type": "code",
   "execution_count": 64,
   "metadata": {
    "collapsed": false
   },
   "outputs": [],
   "source": [
    "r, c = X_train.shape\n",
    "\n",
    "#Split the data into chunks\n",
    "from sklearn import cross_validation\n",
    "X_train, X_val, y_train, y_val = cross_validation.train_test_split(X_train, y_train, test_size=0.2, random_state=0)"
   ]
  },
  {
   "cell_type": "code",
   "execution_count": 65,
   "metadata": {
    "collapsed": false
   },
   "outputs": [
    {
     "data": {
      "text/plain": [
       "(37664, 1190)"
      ]
     },
     "execution_count": 65,
     "metadata": {},
     "output_type": "execute_result"
    }
   ],
   "source": [
    "X_val.shape"
   ]
  },
  {
   "cell_type": "code",
   "execution_count": 66,
   "metadata": {
    "collapsed": true
   },
   "outputs": [],
   "source": [
    "#from keras.layers.normalization import BatchNormalization\n",
    "\n",
    "def larger_model():\n",
    "    model = Sequential()\n",
    "    model.add(Dense(400, input_dim = c, W_regularizer=l2(0.1), init = 'he_normal'))\n",
    "    model.add(SReLU())\n",
    "    model.add(Dropout(0.4))\n",
    "    model.add(Dense(200, W_regularizer=l2(0.1), init = 'he_normal'))\n",
    "    model.add(SReLU())\n",
    "    model.add(Dropout(0.2))\n",
    "    model.add(Dense(1, init = 'he_normal'))\n",
    "    model.compile(loss = 'mae', optimizer = 'adadelta')\n",
    "\n",
    "    return model"
   ]
  },
  {
   "cell_type": "code",
   "execution_count": 67,
   "metadata": {
    "collapsed": false
   },
   "outputs": [
    {
     "name": "stdout",
     "output_type": "stream",
     "text": [
      "Epoch 1/35\n",
      "150654/150654 [==============================] - 35s - loss: 1324.8700    \n",
      "Epoch 2/35\n",
      "150654/150654 [==============================] - 34s - loss: 1241.9735    \n",
      "Epoch 3/35\n",
      "150654/150654 [==============================] - 34s - loss: 1226.2003    \n",
      "Epoch 4/35\n",
      "150654/150654 [==============================] - 34s - loss: 1214.7448    \n",
      "Epoch 5/35\n",
      "150654/150654 [==============================] - 34s - loss: 1206.0821    \n",
      "Epoch 6/35\n",
      "150654/150654 [==============================] - 34s - loss: 1199.8560    \n",
      "Epoch 7/35\n",
      "150654/150654 [==============================] - 34s - loss: 1192.7763    \n",
      "Epoch 8/35\n",
      "150654/150654 [==============================] - 34s - loss: 1188.0551    \n",
      "Epoch 9/35\n",
      "150654/150654 [==============================] - 34s - loss: 1184.1263    \n",
      "Epoch 10/35\n",
      "150654/150654 [==============================] - 34s - loss: 1180.5522    \n",
      "Epoch 11/35\n",
      "150654/150654 [==============================] - 34s - loss: 1177.3071    \n",
      "Epoch 12/35\n",
      "150654/150654 [==============================] - 34s - loss: 1173.6900    \n",
      "Epoch 13/35\n",
      "150654/150654 [==============================] - 34s - loss: 1170.6617    \n",
      "Epoch 14/35\n",
      "150654/150654 [==============================] - 34s - loss: 1167.2129    \n",
      "Epoch 15/35\n",
      "150654/150654 [==============================] - 34s - loss: 1165.4029    \n",
      "Epoch 16/35\n",
      "150654/150654 [==============================] - 34s - loss: 1161.3802    \n",
      "Epoch 17/35\n",
      "150654/150654 [==============================] - 34s - loss: 1158.7627    \n",
      "Epoch 18/35\n",
      "150654/150654 [==============================] - 34s - loss: 1156.3438    \n",
      "Epoch 19/35\n",
      "150654/150654 [==============================] - 34s - loss: 1152.9580    \n",
      "Epoch 20/35\n",
      "150654/150654 [==============================] - 34s - loss: 1150.7220    \n",
      "Epoch 21/35\n",
      "150654/150654 [==============================] - 34s - loss: 1148.3778    \n",
      "Epoch 22/35\n",
      "150654/150654 [==============================] - 34s - loss: 1145.0253    \n",
      "Epoch 23/35\n",
      "150654/150654 [==============================] - 34s - loss: 1144.3860    \n",
      "Epoch 24/35\n",
      "150654/150654 [==============================] - 34s - loss: 1141.6674    \n",
      "Epoch 25/35\n",
      "150654/150654 [==============================] - 34s - loss: 1138.3714    \n",
      "Epoch 26/35\n",
      "150654/150654 [==============================] - 34s - loss: 1137.9068    \n",
      "Epoch 27/35\n",
      "150654/150654 [==============================] - 34s - loss: 1134.4707    \n",
      "Epoch 28/35\n",
      "150654/150654 [==============================] - 34s - loss: 1132.7446    \n",
      "Epoch 29/35\n",
      "150654/150654 [==============================] - 34s - loss: 1131.3850    \n",
      "Epoch 30/35\n",
      "150654/150654 [==============================] - 34s - loss: 1130.7553    \n",
      "Epoch 31/35\n",
      "150654/150654 [==============================] - 34s - loss: 1127.6096    \n",
      "Epoch 32/35\n",
      "150654/150654 [==============================] - 34s - loss: 1125.6477    \n",
      "Epoch 33/35\n",
      "150654/150654 [==============================] - 34s - loss: 1124.8872    \n",
      "Epoch 34/35\n",
      "150654/150654 [==============================] - 34s - loss: 1120.9813    \n",
      "Epoch 35/35\n",
      "150654/150654 [==============================] - 34s - loss: 1118.5198    \n"
     ]
    },
    {
     "data": {
      "text/plain": [
       "Pipeline(steps=[('standardize', StandardScaler(copy=True, with_mean=True, with_std=True)), ('mlp', <keras.wrappers.scikit_learn.KerasRegressor object at 0x7f63fb62c6a0>)])"
      ]
     },
     "execution_count": 67,
     "metadata": {},
     "output_type": "execute_result"
    }
   ],
   "source": [
    "np.random.seed(0)\n",
    "\n",
    "\n",
    "estimators = []\n",
    "estimators.append(('standardize', StandardScaler()))\n",
    "estimators.append(('mlp', KerasRegressor(build_fn=larger_model, nb_epoch=35, batch_size=40, verbose=1)))\n",
    "pipeline = Pipeline(estimators)\n",
    "\n",
    "\n",
    "pipeline.fit(X_train, y_train)\n"
   ]
  },
  {
   "cell_type": "code",
   "execution_count": 68,
   "metadata": {
    "collapsed": false
   },
   "outputs": [
    {
     "name": "stdout",
     "output_type": "stream",
     "text": [
      "37640/37664 [============================>.] - ETA: 0s"
     ]
    },
    {
     "data": {
      "text/plain": [
       "1159.6181284920847"
      ]
     },
     "execution_count": 68,
     "metadata": {},
     "output_type": "execute_result"
    }
   ],
   "source": [
    "pred_val = pipeline.predict(X_val)\n",
    "\n",
    "result = mean_absolute_error(y_val, pred_val)\n",
    "result                      \n",
    "# Activation ..> val score\n",
    "\n",
    "# SRelU(10) -> 1173.5\n",
    "# SReLU(20) -> 1166.9\n",
    "# SReLU(23) -> 1167.8\n",
    "# SReLU(25) -> 1163.9 --> 1143\n",
    "# SRelu(30) -> 1166.4 ->> 1146\n",
    "# SReLU(60) -> 1173.0 --> 1155 (on kaggle)\n",
    "\n",
    "# Reg(0.01), Epoch(25) -> 1161.7\n",
    "# Reg(0.01), Epoch(30) -> 1164.6\n",
    "# Reg(0.10), Epoch(30) -> 1158.9 --> 1143\n",
    "# Reg(0.10), Epoch(35) 1118 -> 1159.6\n",
    "\n"
   ]
  },
  {
   "cell_type": "code",
   "execution_count": 69,
   "metadata": {
    "collapsed": false
   },
   "outputs": [
    {
     "name": "stdout",
     "output_type": "stream",
     "text": [
      "125440/125546 [============================>.] - ETA: 0s"
     ]
    }
   ],
   "source": [
    "pred_targets = pipeline.predict(X_test)"
   ]
  },
  {
   "cell_type": "code",
   "execution_count": 70,
   "metadata": {
    "collapsed": false
   },
   "outputs": [],
   "source": [
    "# pred_targets"
   ]
  },
  {
   "cell_type": "code",
   "execution_count": 71,
   "metadata": {
    "collapsed": false
   },
   "outputs": [],
   "source": [
    "\n",
    "output = pd.DataFrame({\n",
    "        \"ID\": df_test[\"id\"],\n",
    "        \"loss\": pred_targets[:]\n",
    "    })\n",
    "output.to_csv(\"../input/output.csv\", index=False)\n",
    "\n"
   ]
  },
  {
   "cell_type": "code",
   "execution_count": null,
   "metadata": {
    "collapsed": true
   },
   "outputs": [],
   "source": []
  }
 ],
 "metadata": {
  "kernelspec": {
   "display_name": "Python 3",
   "language": "python",
   "name": "python3"
  },
  "language_info": {
   "codemirror_mode": {
    "name": "ipython",
    "version": 3
   },
   "file_extension": ".py",
   "mimetype": "text/x-python",
   "name": "python",
   "nbconvert_exporter": "python",
   "pygments_lexer": "ipython3",
   "version": "3.5.2"
  }
 },
 "nbformat": 4,
 "nbformat_minor": 0
}
