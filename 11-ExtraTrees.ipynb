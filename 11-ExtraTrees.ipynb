{
 "cells": [
  {
   "cell_type": "code",
   "execution_count": 1,
   "metadata": {
    "collapsed": true
   },
   "outputs": [],
   "source": [
    "%matplotlib inline"
   ]
  },
  {
   "cell_type": "code",
   "execution_count": 2,
   "metadata": {
    "collapsed": false
   },
   "outputs": [
    {
     "name": "stderr",
     "output_type": "stream",
     "text": [
      "/home/ubuntu/anaconda3/lib/python3.5/site-packages/sklearn/cross_validation.py:44: DeprecationWarning: This module was deprecated in version 0.18 in favor of the model_selection module into which all the refactored classes and functions are moved. Also note that the interface of the new CV iterators are different from that of this module. This module will be removed in 0.20.\n",
      "  \"This module will be removed in 0.20.\", DeprecationWarning)\n"
     ]
    }
   ],
   "source": [
    "# Imports\n",
    "\n",
    "# pandas\n",
    "import pandas as pd\n",
    "from pandas import Series,DataFrame\n",
    "\n",
    "# numpy, matplotlib, seaborn\n",
    "import numpy as np\n",
    "\n",
    "# machine learning\n",
    "from sklearn.ensemble import ExtraTreesRegressor\n",
    "from sklearn import cross_validation\n"
   ]
  },
  {
   "cell_type": "code",
   "execution_count": 3,
   "metadata": {
    "collapsed": true
   },
   "outputs": [],
   "source": [
    "# get training & test csv files as a DataFrame\n",
    "train_df = pd.read_csv(\"../input/train.csv\" )\n",
    "test_df    = pd.read_csv(\"../input/test.csv\")"
   ]
  },
  {
   "cell_type": "code",
   "execution_count": 4,
   "metadata": {
    "collapsed": true
   },
   "outputs": [],
   "source": [
    "# There are some columns with non-numerical values(i.e. dtype='object'),\n",
    "# So, We will create a corresponding unique numerical value for each non-numerical value in a column of training and testing set.\n",
    "\n",
    "from sklearn import preprocessing\n",
    "\n",
    "for f in train_df.columns:\n",
    "    if train_df[f].dtype == 'object':\n",
    "        lbl = preprocessing.LabelEncoder()\n",
    "        lbl.fit(np.unique(list(train_df[f].values) + list(test_df[f].values)))\n",
    "        train_df[f] = lbl.transform(list(train_df[f].values))\n",
    "        test_df[f]       = lbl.transform(list(test_df[f].values))"
   ]
  },
  {
   "cell_type": "code",
   "execution_count": 5,
   "metadata": {
    "collapsed": false
   },
   "outputs": [],
   "source": [
    "# define training and testing sets\n",
    "# Remove Height and Weight. Rely on BMI\n",
    "\n",
    "X_train = train_df.drop([\"loss\"],axis=1)\n",
    "y_train = train_df[\"loss\"]\n",
    "X_test  = test_df.copy()"
   ]
  },
  {
   "cell_type": "code",
   "execution_count": 6,
   "metadata": {
    "collapsed": false
   },
   "outputs": [
    {
     "data": {
      "text/plain": [
       "array([  1.26396783e-02,   9.93803669e-03,   5.29652521e-03,\n",
       "         1.81381179e-03,   4.11856326e-03,   3.93622154e-03,\n",
       "         4.14290499e-03,   5.48915298e-04,   1.97181022e-03,\n",
       "         3.43393528e-03,   4.29254370e-03,   4.64086970e-03,\n",
       "         3.39900455e-02,   4.16958891e-03,   1.61670020e-03,\n",
       "         9.74773099e-06,   2.29374987e-03,   1.34698778e-03,\n",
       "         7.08815669e-04,   1.01390949e-03,   2.23909341e-04,\n",
       "         2.39004561e-04,   3.25025958e-05,   4.41550212e-03,\n",
       "         2.11667111e-03,   3.97726349e-03,   3.88520239e-03,\n",
       "         4.34887967e-03,   2.67429829e-03,   1.67901645e-03,\n",
       "         1.25529733e-03,   1.95633079e-03,   7.42808862e-04,\n",
       "         6.65116724e-04,   4.77933279e-04,   3.75739082e-04,\n",
       "         4.84910975e-03,   3.85531253e-03,   4.87391597e-03,\n",
       "         1.56022926e-03,   2.79746123e-03,   2.35028160e-03,\n",
       "         7.81323161e-04,   1.72576722e-03,   5.82809924e-03,\n",
       "         2.02527111e-03,   6.13313087e-04,   7.68872719e-04,\n",
       "         2.70279162e-04,   2.70662821e-03,   3.28631746e-03,\n",
       "         1.08796978e-03,   2.88724168e-03,   7.39984069e-03,\n",
       "         1.61739483e-03,   1.69375253e-04,   1.99379185e-04,\n",
       "         5.51115859e-02,   5.17476495e-04,   7.26989412e-04,\n",
       "         2.21057588e-04,   5.08388817e-04,   6.66835060e-05,\n",
       "         1.18690331e-04,   5.03075085e-05,   1.69343926e-03,\n",
       "         2.26032697e-03,   9.46015484e-04,   2.81755626e-04,\n",
       "         1.30070640e-04,   1.72834067e-05,   4.84709957e-03,\n",
       "         1.25999056e-02,   4.88177313e-03,   2.26800097e-03,\n",
       "         4.64597070e-03,   2.85080676e-03,   3.70749111e-04,\n",
       "         1.60703964e-03,   7.90345893e-02,   1.78626687e-01,\n",
       "         2.00510237e-02,   7.37680599e-03,   8.19168387e-03,\n",
       "         6.88603417e-03,   2.75624322e-03,   3.00425140e-03,\n",
       "         1.41089379e-02,   2.33236373e-03,   6.54203193e-04,\n",
       "         1.76132665e-03,   7.55322609e-03,   6.21993033e-03,\n",
       "         7.37916996e-03,   8.12646604e-03,   5.20829050e-03,\n",
       "         4.52131124e-03,   5.77592805e-03,   2.46486994e-03,\n",
       "         5.30885485e-03,   1.32105883e-02,   1.11629888e-02,\n",
       "         2.38354618e-03,   6.69830498e-03,   6.28591697e-03,\n",
       "         1.42603005e-02,   1.09265456e-02,   6.97039721e-03,\n",
       "         5.49125199e-03,   4.12345856e-03,   9.75194373e-03,\n",
       "         6.56496822e-03,   1.18098117e-02,   1.00378460e-02,\n",
       "         5.38397452e-03,   7.64195291e-03,   7.54480466e-03,\n",
       "         7.28408628e-03,   4.08314322e-02,   1.02997791e-02,\n",
       "         9.23739085e-03,   1.02443272e-02,   7.39423268e-03,\n",
       "         4.06953556e-02,   9.05754013e-03,   7.08306042e-03,\n",
       "         7.25678540e-03,   1.56013081e-02,   1.59827413e-02,\n",
       "         5.88323589e-03,   1.61942901e-02])"
      ]
     },
     "execution_count": 6,
     "metadata": {},
     "output_type": "execute_result"
    }
   ],
   "source": [
    "# Find the features that really matter in data set using Random Forest Classifier\n",
    "\n",
    "feat_labels = X_train.columns\n",
    "forest = ExtraTreesRegressor(n_estimators=500, random_state=0, n_jobs=-1)\n",
    "forest.fit(X_train, y_train)\n",
    "importances = forest.feature_importances_\n",
    "indices = np.argsort(importances)[::-1]\n",
    "importances"
   ]
  },
  {
   "cell_type": "code",
   "execution_count": 7,
   "metadata": {
    "collapsed": false
   },
   "outputs": [
    {
     "name": "stdout",
     "output_type": "stream",
     "text": [
      " 1) cat80                          0.178627\n",
      " 2) cat79                          0.079035\n",
      " 3) cat57                          0.055112\n",
      " 4) cont2                          0.040831\n",
      " 5) cont7                          0.040695\n",
      " 6) cat12                          0.033990\n",
      " 7) cat81                          0.020051\n",
      " 8) cont14                         0.016194\n",
      " 9) cont12                         0.015983\n",
      "10) cont11                         0.015601\n",
      "11) cat105                         0.014260\n",
      "12) cat87                          0.014109\n",
      "13) cat100                         0.013211\n",
      "14) id                             0.012640\n",
      "15) cat72                          0.012600\n",
      "16) cat112                         0.011810\n",
      "17) cat101                         0.011163\n",
      "18) cat106                         0.010927\n",
      "19) cont3                          0.010300\n",
      "20) cont5                          0.010244\n",
      "21) cat113                         0.010038\n",
      "22) cat1                           0.009938\n",
      "23) cat110                         0.009752\n",
      "24) cont4                          0.009237\n",
      "25) cont8                          0.009058\n",
      "26) cat83                          0.008192\n",
      "27) cat94                          0.008126\n",
      "28) cat115                         0.007642\n",
      "29) cat91                          0.007553\n",
      "30) cat116                         0.007545\n",
      "31) cat53                          0.007400\n",
      "32) cont6                          0.007394\n",
      "33) cat93                          0.007379\n",
      "34) cat82                          0.007377\n",
      "35) cont1                          0.007284\n",
      "36) cont10                         0.007257\n",
      "37) cont9                          0.007083\n",
      "38) cat107                         0.006970\n",
      "39) cat84                          0.006886\n",
      "40) cat103                         0.006698\n",
      "41) cat111                         0.006565\n",
      "42) cat104                         0.006286\n",
      "43) cat92                          0.006220\n",
      "44) cont13                         0.005883\n",
      "45) cat44                          0.005828\n",
      "46) cat97                          0.005776\n",
      "47) cat108                         0.005491\n",
      "48) cat114                         0.005384\n",
      "49) cat99                          0.005309\n",
      "50) cat2                           0.005297\n",
      "51) cat95                          0.005208\n",
      "52) cat73                          0.004882\n",
      "53) cat38                          0.004874\n",
      "54) cat36                          0.004849\n",
      "55) cat71                          0.004847\n",
      "56) cat75                          0.004646\n",
      "57) cat11                          0.004641\n",
      "58) cat96                          0.004521\n",
      "59) cat23                          0.004416\n",
      "60) cat27                          0.004349\n",
      "61) cat10                          0.004293\n",
      "62) cat13                          0.004170\n",
      "63) cat6                           0.004143\n",
      "64) cat109                         0.004123\n",
      "65) cat4                           0.004119\n",
      "66) cat25                          0.003977\n",
      "67) cat5                           0.003936\n",
      "68) cat26                          0.003885\n",
      "69) cat37                          0.003855\n",
      "70) cat9                           0.003434\n",
      "71) cat50                          0.003286\n",
      "72) cat86                          0.003004\n",
      "73) cat52                          0.002887\n",
      "74) cat76                          0.002851\n",
      "75) cat40                          0.002797\n",
      "76) cat85                          0.002756\n",
      "77) cat49                          0.002707\n",
      "78) cat28                          0.002674\n",
      "79) cat98                          0.002465\n",
      "80) cat102                         0.002384\n",
      "81) cat41                          0.002350\n",
      "82) cat88                          0.002332\n",
      "83) cat16                          0.002294\n",
      "84) cat74                          0.002268\n",
      "85) cat66                          0.002260\n",
      "86) cat24                          0.002117\n",
      "87) cat45                          0.002025\n",
      "88) cat8                           0.001972\n",
      "89) cat31                          0.001956\n",
      "90) cat3                           0.001814\n",
      "91) cat90                          0.001761\n",
      "92) cat43                          0.001726\n",
      "93) cat65                          0.001693\n",
      "94) cat29                          0.001679\n",
      "95) cat54                          0.001617\n",
      "96) cat14                          0.001617\n",
      "97) cat78                          0.001607\n",
      "98) cat39                          0.001560\n",
      "99) cat17                          0.001347\n",
      "100) cat30                          0.001255\n",
      "101) cat51                          0.001088\n",
      "102) cat19                          0.001014\n",
      "103) cat67                          0.000946\n",
      "104) cat42                          0.000781\n",
      "105) cat47                          0.000769\n",
      "106) cat32                          0.000743\n",
      "107) cat59                          0.000727\n",
      "108) cat18                          0.000709\n",
      "109) cat33                          0.000665\n",
      "110) cat89                          0.000654\n",
      "111) cat46                          0.000613\n",
      "112) cat7                           0.000549\n",
      "113) cat58                          0.000517\n",
      "114) cat61                          0.000508\n",
      "115) cat34                          0.000478\n",
      "116) cat35                          0.000376\n",
      "117) cat77                          0.000371\n",
      "118) cat68                          0.000282\n",
      "119) cat48                          0.000270\n",
      "120) cat21                          0.000239\n",
      "121) cat20                          0.000224\n",
      "122) cat60                          0.000221\n",
      "123) cat56                          0.000199\n",
      "124) cat55                          0.000169\n",
      "125) cat69                          0.000130\n",
      "126) cat63                          0.000119\n",
      "127) cat62                          0.000067\n",
      "128) cat64                          0.000050\n",
      "129) cat22                          0.000033\n",
      "130) cat70                          0.000017\n",
      "131) cat15                          0.000010\n"
     ]
    }
   ],
   "source": [
    "# identify the list of top features\n",
    "\n",
    "for f in range(X_train.shape[1]):\n",
    "    print(\"%2d) %-*s %f\" % (f + 1, 30, feat_labels[indices[f]], importances[indices[f]]))"
   ]
  },
  {
   "cell_type": "code",
   "execution_count": 8,
   "metadata": {
    "collapsed": false
   },
   "outputs": [
    {
     "name": "stderr",
     "output_type": "stream",
     "text": [
      "/home/ubuntu/anaconda3/lib/python3.5/site-packages/sklearn/utils/deprecation.py:70: DeprecationWarning: Function transform is deprecated; Support to use estimators as feature selectors will be removed in version 0.19. Use SelectFromModel instead.\n",
      "  warnings.warn(msg, category=DeprecationWarning)\n",
      "/home/ubuntu/anaconda3/lib/python3.5/site-packages/sklearn/utils/deprecation.py:70: DeprecationWarning: Function transform is deprecated; Support to use estimators as feature selectors will be removed in version 0.19. Use SelectFromModel instead.\n",
      "  warnings.warn(msg, category=DeprecationWarning)\n"
     ]
    }
   ],
   "source": [
    "# Use only top features\n",
    "X_train = forest.transform(X_train, threshold=.005)\n",
    "X_test = forest.transform(X_test, threshold=.005)"
   ]
  },
  {
   "cell_type": "code",
   "execution_count": 9,
   "metadata": {
    "collapsed": false
   },
   "outputs": [
    {
     "data": {
      "text/plain": [
       "ExtraTreesRegressor(bootstrap=False, criterion='mse', max_depth=None,\n",
       "          max_features='auto', max_leaf_nodes=None,\n",
       "          min_impurity_split=1e-07, min_samples_leaf=1,\n",
       "          min_samples_split=2, min_weight_fraction_leaf=0.0,\n",
       "          n_estimators=500, n_jobs=-1, oob_score=False, random_state=0,\n",
       "          verbose=0, warm_start=False)"
      ]
     },
     "execution_count": 9,
     "metadata": {},
     "output_type": "execute_result"
    }
   ],
   "source": [
    "forest = ExtraTreesRegressor(n_estimators=500, random_state=0, n_jobs=-1)\n",
    "forest.fit(X_train, y_train)"
   ]
  },
  {
   "cell_type": "code",
   "execution_count": 10,
   "metadata": {
    "collapsed": true
   },
   "outputs": [],
   "source": [
    "y_pred = forest.predict(X_test)\n",
    "\n"
   ]
  },
  {
   "cell_type": "code",
   "execution_count": 11,
   "metadata": {
    "collapsed": true
   },
   "outputs": [],
   "source": [
    "\n",
    "output = pd.DataFrame({\n",
    "        \"ID\": test_df[\"id\"],\n",
    "        \"loss\": y_pred[:]\n",
    "    })\n",
    "output.to_csv(\"../input/output-xtrees.csv\", index=False)"
   ]
  },
  {
   "cell_type": "code",
   "execution_count": null,
   "metadata": {
    "collapsed": true
   },
   "outputs": [],
   "source": []
  }
 ],
 "metadata": {
  "kernelspec": {
   "display_name": "Python 3",
   "language": "python",
   "name": "python3"
  },
  "language_info": {
   "codemirror_mode": {
    "name": "ipython",
    "version": 3
   },
   "file_extension": ".py",
   "mimetype": "text/x-python",
   "name": "python",
   "nbconvert_exporter": "python",
   "pygments_lexer": "ipython3",
   "version": "3.5.2"
  }
 },
 "nbformat": 4,
 "nbformat_minor": 0
}
