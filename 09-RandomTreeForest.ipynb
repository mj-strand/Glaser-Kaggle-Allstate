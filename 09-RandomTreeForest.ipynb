{
 "cells": [
  {
   "cell_type": "code",
   "execution_count": 1,
   "metadata": {
    "collapsed": true
   },
   "outputs": [],
   "source": [
    "%matplotlib inline"
   ]
  },
  {
   "cell_type": "code",
   "execution_count": 2,
   "metadata": {
    "collapsed": false
   },
   "outputs": [
    {
     "name": "stderr",
     "output_type": "stream",
     "text": [
      "/home/ubuntu/anaconda3/lib/python3.5/site-packages/sklearn/cross_validation.py:44: DeprecationWarning: This module was deprecated in version 0.18 in favor of the model_selection module into which all the refactored classes and functions are moved. Also note that the interface of the new CV iterators are different from that of this module. This module will be removed in 0.20.\n",
      "  \"This module will be removed in 0.20.\", DeprecationWarning)\n"
     ]
    }
   ],
   "source": [
    "# Imports\n",
    "\n",
    "# pandas\n",
    "import pandas as pd\n",
    "from pandas import Series,DataFrame\n",
    "\n",
    "# numpy, matplotlib, seaborn\n",
    "import numpy as np\n",
    "\n",
    "# machine learning\n",
    "from sklearn.ensemble import RandomForestRegressor\n",
    "from sklearn import cross_validation\n"
   ]
  },
  {
   "cell_type": "code",
   "execution_count": 3,
   "metadata": {
    "collapsed": true
   },
   "outputs": [],
   "source": [
    "# get training & test csv files as a DataFrame\n",
    "train_df = pd.read_csv(\"../input/train.csv\" )\n",
    "test_df    = pd.read_csv(\"../input/test.csv\")"
   ]
  },
  {
   "cell_type": "code",
   "execution_count": 4,
   "metadata": {
    "collapsed": true
   },
   "outputs": [],
   "source": [
    "# There are some columns with non-numerical values(i.e. dtype='object'),\n",
    "# So, We will create a corresponding unique numerical value for each non-numerical value in a column of training and testing set.\n",
    "\n",
    "from sklearn import preprocessing\n",
    "\n",
    "for f in train_df.columns:\n",
    "    if train_df[f].dtype == 'object':\n",
    "        lbl = preprocessing.LabelEncoder()\n",
    "        lbl.fit(np.unique(list(train_df[f].values) + list(test_df[f].values)))\n",
    "        train_df[f] = lbl.transform(list(train_df[f].values))\n",
    "        test_df[f]       = lbl.transform(list(test_df[f].values))"
   ]
  },
  {
   "cell_type": "code",
   "execution_count": 5,
   "metadata": {
    "collapsed": false
   },
   "outputs": [],
   "source": [
    "# define training and testing sets\n",
    "# Remove Height and Weight. Rely on BMI\n",
    "\n",
    "X_train = train_df.drop([\"loss\"],axis=1)\n",
    "y_train = train_df[\"loss\"]\n",
    "X_test  = test_df.copy()"
   ]
  },
  {
   "cell_type": "code",
   "execution_count": 6,
   "metadata": {
    "collapsed": false
   },
   "outputs": [
    {
     "data": {
      "text/plain": [
       "array([  2.95496331e-02,   7.91008736e-03,   1.82880263e-03,\n",
       "         9.03982587e-04,   1.65624625e-03,   1.65357103e-03,\n",
       "         1.62206520e-03,   3.78818177e-04,   7.56325773e-04,\n",
       "         1.93106581e-03,   1.63027535e-03,   1.96111533e-03,\n",
       "         2.88116506e-02,   1.73508543e-03,   8.70519571e-04,\n",
       "         3.26023238e-06,   1.26747157e-03,   6.45941187e-04,\n",
       "         3.58490649e-04,   6.05969491e-04,   1.48812399e-04,\n",
       "         1.05754880e-04,   2.30066610e-05,   2.24165216e-03,\n",
       "         8.74054433e-04,   1.70412920e-03,   2.10795757e-03,\n",
       "         2.91704346e-03,   1.06756486e-03,   9.48192011e-04,\n",
       "         5.66091287e-04,   7.99535070e-04,   3.49095152e-04,\n",
       "         3.05881694e-04,   2.23683191e-04,   2.00770468e-04,\n",
       "         2.89452923e-03,   2.24086634e-03,   2.73005337e-03,\n",
       "         7.21479262e-04,   1.22991492e-03,   9.62865269e-04,\n",
       "         4.56906946e-04,   6.84483654e-04,   2.18911098e-03,\n",
       "         8.90302915e-04,   3.88936872e-04,   4.59858290e-04,\n",
       "         1.17608519e-04,   1.25244673e-03,   1.75157191e-03,\n",
       "         6.55239175e-04,   1.35060831e-03,   5.49795657e-03,\n",
       "         6.67601350e-04,   9.52934817e-05,   1.05852500e-04,\n",
       "         5.31053164e-02,   2.60362540e-04,   4.35081276e-04,\n",
       "         1.13364105e-04,   2.62059773e-04,   4.98231762e-05,\n",
       "         1.06884783e-04,   3.08497907e-05,   7.95439077e-04,\n",
       "         1.02779109e-03,   6.62103591e-04,   1.37364165e-04,\n",
       "         6.34927531e-05,   9.69810242e-06,   8.85888861e-04,\n",
       "         9.49539211e-03,   1.97530516e-03,   1.17714196e-03,\n",
       "         1.56163716e-03,   1.72702665e-03,   3.26045947e-04,\n",
       "         1.12374568e-03,   4.07231186e-02,   2.25551390e-01,\n",
       "         1.92995285e-02,   3.93036361e-03,   4.40096145e-03,\n",
       "         3.41643764e-03,   1.06360202e-03,   6.58309968e-04,\n",
       "         6.46951883e-03,   5.95875796e-04,   4.77676464e-04,\n",
       "         1.15777649e-03,   5.49411078e-03,   2.42906815e-03,\n",
       "         3.67246498e-03,   1.78227353e-03,   2.10823626e-03,\n",
       "         1.67602421e-03,   2.30183610e-03,   1.01174478e-03,\n",
       "         2.35475566e-03,   1.59063189e-02,   1.97822363e-02,\n",
       "         2.00949086e-03,   1.12996741e-02,   2.72670564e-03,\n",
       "         8.65696646e-03,   3.74568658e-03,   5.16274189e-03,\n",
       "         2.96895940e-03,   2.55922422e-03,   1.06750450e-02,\n",
       "         1.01491646e-02,   1.57516294e-02,   9.84760483e-03,\n",
       "         1.02049370e-02,   4.83383355e-03,   8.46292202e-03,\n",
       "         1.33072694e-02,   4.48988551e-02,   1.51465596e-02,\n",
       "         1.28044255e-02,   1.41337494e-02,   1.44539951e-02,\n",
       "         9.15828134e-02,   1.54483720e-02,   1.00081261e-02,\n",
       "         1.00838825e-02,   1.31224304e-02,   1.50289321e-02,\n",
       "         1.18886164e-02,   3.94348561e-02])"
      ]
     },
     "execution_count": 6,
     "metadata": {},
     "output_type": "execute_result"
    }
   ],
   "source": [
    "# Find the features that really matter in data set using Random Forest Classifier\n",
    "\n",
    "feat_labels = X_train.columns\n",
    "forest = RandomForestRegressor(n_estimators=500, random_state=0, n_jobs=-1)\n",
    "forest.fit(X_train, y_train)\n",
    "importances = forest.feature_importances_\n",
    "indices = np.argsort(importances)[::-1]\n",
    "importances"
   ]
  },
  {
   "cell_type": "code",
   "execution_count": 7,
   "metadata": {
    "collapsed": false
   },
   "outputs": [
    {
     "name": "stdout",
     "output_type": "stream",
     "text": [
      " 1) cat80                          0.225551\n",
      " 2) cont7                          0.091583\n",
      " 3) cat57                          0.053105\n",
      " 4) cont2                          0.044899\n",
      " 5) cat79                          0.040723\n",
      " 6) cont14                         0.039435\n",
      " 7) id                             0.029550\n",
      " 8) cat12                          0.028812\n",
      " 9) cat101                         0.019782\n",
      "10) cat81                          0.019300\n",
      "11) cat100                         0.015906\n",
      "12) cat112                         0.015752\n",
      "13) cont8                          0.015448\n",
      "14) cont3                          0.015147\n",
      "15) cont12                         0.015029\n",
      "16) cont6                          0.014454\n",
      "17) cont5                          0.014134\n",
      "18) cont1                          0.013307\n",
      "19) cont11                         0.013122\n",
      "20) cont4                          0.012804\n",
      "21) cont13                         0.011889\n",
      "22) cat103                         0.011300\n",
      "23) cat110                         0.010675\n",
      "24) cat114                         0.010205\n",
      "25) cat111                         0.010149\n",
      "26) cont10                         0.010084\n",
      "27) cont9                          0.010008\n",
      "28) cat113                         0.009848\n",
      "29) cat72                          0.009495\n",
      "30) cat105                         0.008657\n",
      "31) cat116                         0.008463\n",
      "32) cat1                           0.007910\n",
      "33) cat87                          0.006470\n",
      "34) cat53                          0.005498\n",
      "35) cat91                          0.005494\n",
      "36) cat107                         0.005163\n",
      "37) cat115                         0.004834\n",
      "38) cat83                          0.004401\n",
      "39) cat82                          0.003930\n",
      "40) cat106                         0.003746\n",
      "41) cat93                          0.003672\n",
      "42) cat84                          0.003416\n",
      "43) cat108                         0.002969\n",
      "44) cat27                          0.002917\n",
      "45) cat36                          0.002895\n",
      "46) cat38                          0.002730\n",
      "47) cat104                         0.002727\n",
      "48) cat109                         0.002559\n",
      "49) cat92                          0.002429\n",
      "50) cat99                          0.002355\n",
      "51) cat97                          0.002302\n",
      "52) cat23                          0.002242\n",
      "53) cat37                          0.002241\n",
      "54) cat44                          0.002189\n",
      "55) cat95                          0.002108\n",
      "56) cat26                          0.002108\n",
      "57) cat102                         0.002009\n",
      "58) cat73                          0.001975\n",
      "59) cat11                          0.001961\n",
      "60) cat9                           0.001931\n",
      "61) cat2                           0.001829\n",
      "62) cat94                          0.001782\n",
      "63) cat50                          0.001752\n",
      "64) cat13                          0.001735\n",
      "65) cat76                          0.001727\n",
      "66) cat25                          0.001704\n",
      "67) cat96                          0.001676\n",
      "68) cat4                           0.001656\n",
      "69) cat5                           0.001654\n",
      "70) cat10                          0.001630\n",
      "71) cat6                           0.001622\n",
      "72) cat75                          0.001562\n",
      "73) cat52                          0.001351\n",
      "74) cat16                          0.001267\n",
      "75) cat49                          0.001252\n",
      "76) cat40                          0.001230\n",
      "77) cat74                          0.001177\n",
      "78) cat90                          0.001158\n",
      "79) cat78                          0.001124\n",
      "80) cat28                          0.001068\n",
      "81) cat85                          0.001064\n",
      "82) cat66                          0.001028\n",
      "83) cat98                          0.001012\n",
      "84) cat41                          0.000963\n",
      "85) cat29                          0.000948\n",
      "86) cat3                           0.000904\n",
      "87) cat45                          0.000890\n",
      "88) cat71                          0.000886\n",
      "89) cat24                          0.000874\n",
      "90) cat14                          0.000871\n",
      "91) cat31                          0.000800\n",
      "92) cat65                          0.000795\n",
      "93) cat8                           0.000756\n",
      "94) cat39                          0.000721\n",
      "95) cat43                          0.000684\n",
      "96) cat54                          0.000668\n",
      "97) cat67                          0.000662\n",
      "98) cat86                          0.000658\n",
      "99) cat51                          0.000655\n",
      "100) cat17                          0.000646\n",
      "101) cat19                          0.000606\n",
      "102) cat88                          0.000596\n",
      "103) cat30                          0.000566\n",
      "104) cat89                          0.000478\n",
      "105) cat47                          0.000460\n",
      "106) cat42                          0.000457\n",
      "107) cat59                          0.000435\n",
      "108) cat46                          0.000389\n",
      "109) cat7                           0.000379\n",
      "110) cat18                          0.000358\n",
      "111) cat32                          0.000349\n",
      "112) cat77                          0.000326\n",
      "113) cat33                          0.000306\n",
      "114) cat61                          0.000262\n",
      "115) cat58                          0.000260\n",
      "116) cat34                          0.000224\n",
      "117) cat35                          0.000201\n",
      "118) cat20                          0.000149\n",
      "119) cat68                          0.000137\n",
      "120) cat48                          0.000118\n",
      "121) cat60                          0.000113\n",
      "122) cat63                          0.000107\n",
      "123) cat56                          0.000106\n",
      "124) cat21                          0.000106\n",
      "125) cat55                          0.000095\n",
      "126) cat69                          0.000063\n",
      "127) cat62                          0.000050\n",
      "128) cat64                          0.000031\n",
      "129) cat22                          0.000023\n",
      "130) cat70                          0.000010\n",
      "131) cat15                          0.000003\n"
     ]
    }
   ],
   "source": [
    "# identify the list of top features\n",
    "\n",
    "for f in range(X_train.shape[1]):\n",
    "    print(\"%2d) %-*s %f\" % (f + 1, 30, feat_labels[indices[f]], importances[indices[f]]))"
   ]
  },
  {
   "cell_type": "code",
   "execution_count": 8,
   "metadata": {
    "collapsed": false
   },
   "outputs": [
    {
     "name": "stderr",
     "output_type": "stream",
     "text": [
      "/home/ubuntu/anaconda3/lib/python3.5/site-packages/sklearn/utils/deprecation.py:70: DeprecationWarning: Function transform is deprecated; Support to use estimators as feature selectors will be removed in version 0.19. Use SelectFromModel instead.\n",
      "  warnings.warn(msg, category=DeprecationWarning)\n",
      "/home/ubuntu/anaconda3/lib/python3.5/site-packages/sklearn/utils/deprecation.py:70: DeprecationWarning: Function transform is deprecated; Support to use estimators as feature selectors will be removed in version 0.19. Use SelectFromModel instead.\n",
      "  warnings.warn(msg, category=DeprecationWarning)\n"
     ]
    }
   ],
   "source": [
    "# Use only top features\n",
    "X_train = forest.transform(X_train, threshold=.005)\n",
    "X_test = forest.transform(X_test, threshold=.005)"
   ]
  },
  {
   "cell_type": "code",
   "execution_count": 9,
   "metadata": {
    "collapsed": false
   },
   "outputs": [
    {
     "data": {
      "text/plain": [
       "RandomForestRegressor(bootstrap=True, criterion='mse', max_depth=None,\n",
       "           max_features='auto', max_leaf_nodes=None,\n",
       "           min_impurity_split=1e-07, min_samples_leaf=1,\n",
       "           min_samples_split=2, min_weight_fraction_leaf=0.0,\n",
       "           n_estimators=500, n_jobs=-1, oob_score=False, random_state=0,\n",
       "           verbose=0, warm_start=False)"
      ]
     },
     "execution_count": 9,
     "metadata": {},
     "output_type": "execute_result"
    }
   ],
   "source": [
    "forest = RandomForestRegressor(n_estimators=500, random_state=0, n_jobs=-1)\n",
    "forest.fit(X_train, y_train)"
   ]
  },
  {
   "cell_type": "code",
   "execution_count": 10,
   "metadata": {
    "collapsed": true
   },
   "outputs": [],
   "source": [
    "y_pred = forest.predict(X_test)\n",
    "\n"
   ]
  },
  {
   "cell_type": "code",
   "execution_count": 11,
   "metadata": {
    "collapsed": true
   },
   "outputs": [],
   "source": [
    "\n",
    "output = pd.DataFrame({\n",
    "        \"ID\": test_df[\"id\"],\n",
    "        \"loss\": y_pred[:]\n",
    "    })\n",
    "output.to_csv(\"../input/output.csv\", index=False)"
   ]
  },
  {
   "cell_type": "code",
   "execution_count": null,
   "metadata": {
    "collapsed": true
   },
   "outputs": [],
   "source": []
  }
 ],
 "metadata": {
  "kernelspec": {
   "display_name": "Python 3",
   "language": "python",
   "name": "python3"
  },
  "language_info": {
   "codemirror_mode": {
    "name": "ipython",
    "version": 3
   },
   "file_extension": ".py",
   "mimetype": "text/x-python",
   "name": "python",
   "nbconvert_exporter": "python",
   "pygments_lexer": "ipython3",
   "version": "3.5.2"
  }
 },
 "nbformat": 4,
 "nbformat_minor": 0
}
