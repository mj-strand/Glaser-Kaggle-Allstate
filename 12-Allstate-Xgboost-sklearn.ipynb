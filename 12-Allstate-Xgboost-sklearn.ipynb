{
 "cells": [
  {
   "cell_type": "code",
   "execution_count": 1,
   "metadata": {
    "collapsed": true
   },
   "outputs": [],
   "source": [
    "%matplotlib inline"
   ]
  },
  {
   "cell_type": "code",
   "execution_count": 2,
   "metadata": {
    "collapsed": false
   },
   "outputs": [
    {
     "name": "stderr",
     "output_type": "stream",
     "text": [
      "/home/ubuntu/anaconda3/lib/python3.5/site-packages/sklearn/cross_validation.py:44: DeprecationWarning: This module was deprecated in version 0.18 in favor of the model_selection module into which all the refactored classes and functions are moved. Also note that the interface of the new CV iterators are different from that of this module. This module will be removed in 0.20.\n",
      "  \"This module will be removed in 0.20.\", DeprecationWarning)\n",
      "/home/ubuntu/anaconda3/lib/python3.5/site-packages/sklearn/grid_search.py:43: DeprecationWarning: This module was deprecated in version 0.18 in favor of the model_selection module into which all the refactored classes and functions are moved. This module will be removed in 0.20.\n",
      "  DeprecationWarning)\n"
     ]
    }
   ],
   "source": [
    "import pandas as pd\n",
    "\n",
    "\n",
    "import numpy as np\n",
    "\n",
    "\n",
    "import xgboost as xgb\n",
    "# machine learning\n",
    "from xgboost.sklearn import XGBRegressor\n",
    "from sklearn import cross_validation, metrics #Additional scklearn functions \n",
    "from sklearn.grid_search import GridSearchCV #Perforing grid search\n",
    "\n",
    "\n",
    "import matplotlib.pylab as plt \n",
    "from matplotlib.pylab import rcParams \n",
    "rcParams['figure.figsize'] = 24, 8"
   ]
  },
  {
   "cell_type": "code",
   "execution_count": 3,
   "metadata": {
    "collapsed": false
   },
   "outputs": [],
   "source": [
    "# get training & test csv files as a DataFrame\n",
    "df_train = pd.read_csv(\"../input/train.csv\" )\n",
    "df_test    = pd.read_csv(\"../input/test.csv\")"
   ]
  },
  {
   "cell_type": "code",
   "execution_count": 5,
   "metadata": {
    "collapsed": false
   },
   "outputs": [],
   "source": [
    "y_train = np.log(df_train['loss'].ravel())\n",
    "\n",
    "X_train = df_train.copy()\n",
    "X_test = df_test.copy()\n",
    "\n",
    "X_train.drop(['id', 'loss'], axis=1, inplace=True)\n",
    "X_test.drop(['id'], axis=1, inplace=True)\n",
    "\n"
   ]
  },
  {
   "cell_type": "code",
   "execution_count": 6,
   "metadata": {
    "collapsed": false
   },
   "outputs": [
    {
     "name": "stdout",
     "output_type": "stream",
     "text": [
      "(188318, 130),(125546, 130)\n",
      "   cat1  cat2  cat3  cat4  cat5  cat6  cat7  cat8  cat9  cat10    ...     \\\n",
      "0     0     1     0     1     0     0     0     0     1      0    ...      \n",
      "1     0     1     0     0     0     0     0     0     1      1    ...      \n",
      "2     0     1     0     0     1     0     0     0     1      1    ...      \n",
      "3     1     1     0     1     0     0     0     0     1      0    ...      \n",
      "4     0     1     0     1     0     0     0     0     1      1    ...      \n",
      "\n",
      "      cont5     cont6     cont7    cont8    cont9   cont10    cont11  \\\n",
      "0  0.310061  0.718367  0.335060  0.30260  0.67135  0.83510  0.569745   \n",
      "1  0.885834  0.438917  0.436585  0.60087  0.35127  0.43919  0.338312   \n",
      "2  0.397069  0.289648  0.315545  0.27320  0.26076  0.32446  0.381398   \n",
      "3  0.422268  0.440945  0.391128  0.31796  0.32128  0.44467  0.327915   \n",
      "4  0.704268  0.178193  0.247408  0.24564  0.22089  0.21230  0.204687   \n",
      "\n",
      "     cont12    cont13    cont14  \n",
      "0  0.594646  0.822493  0.714843  \n",
      "1  0.366307  0.611431  0.304496  \n",
      "2  0.373424  0.195709  0.774425  \n",
      "3  0.321570  0.605077  0.602642  \n",
      "4  0.202213  0.246011  0.432606  \n",
      "\n",
      "[5 rows x 130 columns]\n",
      "(188318, 130),(125546, 130)\n"
     ]
    }
   ],
   "source": [
    "print(\"{},{}\".format(X_train.shape, X_test.shape))\n",
    "\n",
    "ntrain = X_train.shape[0]\n",
    "train_test = pd.concat((X_train, X_test)).reset_index(drop=True)\n",
    "\n",
    "features = X_train.columns\n",
    "\n",
    "cats = [feat for feat in features if 'cat' in feat]\n",
    "for feat in cats:\n",
    "    train_test[feat] = pd.factorize(train_test[feat], sort=True)[0]\n",
    "\n",
    "print(train_test.head())\n",
    "\n",
    "X_train = np.array(train_test.iloc[:ntrain,:])\n",
    "X_test = np.array(train_test.iloc[ntrain:,:])\n",
    "\n",
    "print(\"{},{}\".format(X_train.shape, X_test.shape))\n"
   ]
  },
  {
   "cell_type": "code",
   "execution_count": 8,
   "metadata": {
    "collapsed": false
   },
   "outputs": [],
   "source": [
    "from sklearn.metrics import mean_absolute_error\n",
    "\n",
    "def xg_eval_mae(yhat, T_train_xgb):\n",
    "    y = T_train_xgb.get_label()\n",
    "    return 'mae', mean_absolute_error(np.exp(y), np.exp(yhat))\n",
    "\n",
    "def modelfit(alg, X_train, y_train,useTrainCV=True, cv_folds=5, early_stopping_rounds=20): \n",
    "    if useTrainCV: \n",
    "        xgb_param = alg.get_xgb_params() \n",
    "        xgtrain = xgb.DMatrix(X_train, label=y_train) \n",
    "        cvresult = xgb.cv(xgb_param, xgtrain,  num_boost_round=alg.get_params()['n_estimators'], \n",
    "                          nfold=cv_folds, seed=2016, stratified=False, early_stopping_rounds=early_stopping_rounds, \n",
    "                          verbose_eval=10, show_stdv=True, feval=xg_eval_mae, maximize=False)\n",
    "        \n",
    "        alg.set_params(n_estimators=cvresult.shape[0]) \n",
    "    #Fit the algorithm on the data \n",
    "    alg.fit(X_train, y_train,eval_metric='mae') \n",
    "    #Predict training set: \n",
    "    dtrain_predictions = alg.predict(X_train) \n",
    "    #dtrain_predprob = alg.predict_proba(X_train)[:,1] \n",
    "\n",
    "    cv_mean = cvresult.iloc[-1, 0]\n",
    "    cv_std = cvresult.iloc[-1, 1]\n",
    "    print('CV-Mean: {0}+{1}'.format(cv_mean, cv_std))\n",
    "    \n",
    "    feat_imp = pd.Series(alg.booster().get_fscore()).sort_values(ascending=False) \n",
    "    feat_imp.plot(kind='bar', title='Feature Importances') \n",
    "    plt.ylabel('Feature Importance Score')"
   ]
  },
  {
   "cell_type": "code",
   "execution_count": 22,
   "metadata": {
    "collapsed": false
   },
   "outputs": [
    {
     "name": "stdout",
     "output_type": "stream",
     "text": [
      "[0]\ttrain-mae:3030.36+1.1655\ttrain-rmse:5.79765+0.000297607\ttest-mae:3030.36+4.65948\ttest-rmse:5.79767+0.000881175\n",
      "[10]\ttrain-mae:1802.04+1.56107\ttrain-rmse:0.856238+0.000813888\ttest-mae:1803.49+4.73069\ttest-rmse:0.857575+0.000922061\n",
      "[20]\ttrain-mae:1235.62+1.85529\ttrain-rmse:0.566486+0.000649809\ttest-mae:1243.21+4.74888\ttest-rmse:0.569954+0.00113959\n",
      "[30]\ttrain-mae:1180.32+0.738669\ttrain-rmse:0.551208+0.000272831\ttest-mae:1192.64+4.66225\ttest-rmse:0.556213+0.000920807\n",
      "[40]\ttrain-mae:1162.48+0.858425\ttrain-rmse:0.544972+0.000493318\ttest-mae:1178.15+4.17503\ttest-rmse:0.551318+0.00082381\n",
      "[50]\ttrain-mae:1151.71+0.83521\ttrain-rmse:0.540682+0.000186229\ttest-mae:1171.28+4.03744\ttest-rmse:0.548462+0.000841116\n",
      "[60]\ttrain-mae:1144.08+1.36472\ttrain-rmse:0.537503+0.000182667\ttest-mae:1166.53+4.37988\ttest-rmse:0.546468+0.000946228\n",
      "[70]\ttrain-mae:1138.25+1.5799\ttrain-rmse:0.534961+0.000331501\ttest-mae:1163.73+3.99974\ttest-rmse:0.545173+0.00105623\n",
      "[80]\ttrain-mae:1132.96+1.64224\ttrain-rmse:0.532682+0.000409359\ttest-mae:1161.39+3.82754\ttest-rmse:0.544081+0.00102056\n",
      "[90]\ttrain-mae:1128.82+1.28533\ttrain-rmse:0.530877+0.000300143\ttest-mae:1160.09+3.39374\ttest-rmse:0.543379+0.000790245\n",
      "[100]\ttrain-mae:1124.91+1.12387\ttrain-rmse:0.529249+0.000194208\ttest-mae:1159.08+3.26598\ttest-rmse:0.542868+0.000780048\n",
      "[110]\ttrain-mae:1121.26+1.07089\ttrain-rmse:0.527719+0.00010785\ttest-mae:1158+3.09712\ttest-rmse:0.542405+0.000699674\n",
      "[120]\ttrain-mae:1117.55+0.896226\ttrain-rmse:0.526206+0.000137526\ttest-mae:1157+2.74365\ttest-rmse:0.541968+0.000603819\n",
      "[130]\ttrain-mae:1114.16+0.972113\ttrain-rmse:0.524814+5.21268e-05\ttest-mae:1156.21+3.06864\ttest-rmse:0.541615+0.000652636\n",
      "[140]\ttrain-mae:1111.04+1.25946\ttrain-rmse:0.523526+0.000181252\ttest-mae:1155.63+3.24315\ttest-rmse:0.54137+0.000677615\n",
      "[150]\ttrain-mae:1108.11+1.11947\ttrain-rmse:0.522288+0.000102539\ttest-mae:1155.55+3.24696\ttest-rmse:0.541187+0.000668298\n",
      "[160]\ttrain-mae:1105.55+1.2929\ttrain-rmse:0.521175+0.000156776\ttest-mae:1155.62+3.26147\ttest-rmse:0.541054+0.000700376\n",
      "[170]\ttrain-mae:1102.87+1.41568\ttrain-rmse:0.520112+0.000175105\ttest-mae:1155.5+3.41271\ttest-rmse:0.540929+0.000737815\n",
      "[180]\ttrain-mae:1099.98+1.15423\ttrain-rmse:0.518909+0.00013032\ttest-mae:1155.3+2.96499\ttest-rmse:0.54077+0.000647356\n",
      "[190]\ttrain-mae:1097.25+0.999524\ttrain-rmse:0.517782+0.000121866\ttest-mae:1154.84+3.01843\ttest-rmse:0.540634+0.000696228\n",
      "[200]\ttrain-mae:1094.67+1.16319\ttrain-rmse:0.516713+0.00023662\ttest-mae:1154.51+3.07748\ttest-rmse:0.540493+0.000732025\n",
      "[210]\ttrain-mae:1092.09+1.44018\ttrain-rmse:0.515668+0.000276164\ttest-mae:1154.33+3.03087\ttest-rmse:0.540433+0.000742214\n",
      "[220]\ttrain-mae:1089.59+1.476\ttrain-rmse:0.51467+0.000331952\ttest-mae:1154.04+3.10291\ttest-rmse:0.540428+0.000720172\n",
      "[230]\ttrain-mae:1086.87+1.54429\ttrain-rmse:0.513575+0.000390655\ttest-mae:1153.81+2.94391\ttest-rmse:0.540345+0.000689083\n",
      "[240]\ttrain-mae:1084.61+1.43851\ttrain-rmse:0.512654+0.000388322\ttest-mae:1153.86+2.83529\ttest-rmse:0.540329+0.000669171\n",
      "[250]\ttrain-mae:1082.28+1.34933\ttrain-rmse:0.511646+0.000402163\ttest-mae:1153.88+2.9503\ttest-rmse:0.540275+0.000637192\n",
      "[260]\ttrain-mae:1080.17+1.34473\ttrain-rmse:0.510743+0.000400427\ttest-mae:1153.99+3.00655\ttest-rmse:0.540289+0.000661149\n",
      "CV-Mean: 1153.8261473999999+2.882339294704472\n"
     ]
    },
    {
     "data": {
      "image/png": "[encoded data removed]",
      "text/plain": [
       "<matplotlib.figure.Figure at 0x7fef3302cfd0>"
      ]
     },
     "metadata": {},
     "output_type": "display_data"
    }
   ],
   "source": [
    "# predictors = [x for x in X_train.columns ] \n",
    "xgb1 = XGBRegressor( learning_rate =0.2, \n",
    "                     n_estimators=1000, \n",
    "                     max_depth=5, min_child_weight=1, gamma=0, subsample=0.8, \n",
    "                     colsample_bytree=0.8, objective= 'reg:linear', nthread=8, \n",
    "                     scale_pos_weight=1, seed=27, silent=1)\n",
    "# xgb1.fit(X_train, y_train,eval_metric='mae')\n",
    "\n",
    "modelfit(xgb1, X_train, y_train)"
   ]
  },
  {
   "cell_type": "code",
   "execution_count": 24,
   "metadata": {
    "collapsed": false
   },
   "outputs": [
    {
     "data": {
      "text/plain": [
       "([mean: -0.41817, std: 0.00198, params: {'min_child_weight': 5, 'max_depth': 5},\n",
       "  mean: -0.41807, std: 0.00185, params: {'min_child_weight': 6, 'max_depth': 5},\n",
       "  mean: -0.41800, std: 0.00217, params: {'min_child_weight': 7, 'max_depth': 5},\n",
       "  mean: -0.41888, std: 0.00224, params: {'min_child_weight': 5, 'max_depth': 6},\n",
       "  mean: -0.41860, std: 0.00219, params: {'min_child_weight': 6, 'max_depth': 6},\n",
       "  mean: -0.41871, std: 0.00233, params: {'min_child_weight': 7, 'max_depth': 6},\n",
       "  mean: -0.42058, std: 0.00176, params: {'min_child_weight': 5, 'max_depth': 7},\n",
       "  mean: -0.42052, std: 0.00185, params: {'min_child_weight': 6, 'max_depth': 7},\n",
       "  mean: -0.42036, std: 0.00194, params: {'min_child_weight': 7, 'max_depth': 7}],\n",
       " {'max_depth': 5, 'min_child_weight': 7},\n",
       " -0.4180049861599923)"
      ]
     },
     "execution_count": 24,
     "metadata": {},
     "output_type": "execute_result"
    }
   ],
   "source": [
    "param_test1 = { \n",
    "                'max_depth':[5,6,7], \n",
    "                'min_child_weight':[5,6,7] \n",
    "              } \n",
    "gsearch1 = GridSearchCV(estimator = XGBRegressor( learning_rate =0.2, \n",
    "                                                  n_estimators=250, max_depth=5, min_child_weight=1, \n",
    "                                                  gamma=0, subsample=0.8, colsample_bytree=0.8, \n",
    "                                                  objective= 'reg:linear', nthread=4, scale_pos_weight=1, \n",
    "                                                  seed=27), param_grid = param_test1, scoring='neg_mean_absolute_error',\n",
    "                                                  n_jobs=4,iid=False, cv=5) \n",
    "gsearch1.fit(X_train, y_train) \n",
    "gsearch1.grid_scores_, gsearch1.best_params_, gsearch1.best_score_"
   ]
  },
  {
   "cell_type": "code",
   "execution_count": 7,
   "metadata": {
    "collapsed": false
   },
   "outputs": [
    {
     "data": {
      "text/plain": [
       "([mean: -0.41800, std: 0.00217, params: {'gamma': 0.0},\n",
       "  mean: -0.41815, std: 0.00187, params: {'gamma': 0.1},\n",
       "  mean: -0.41812, std: 0.00209, params: {'gamma': 0.2},\n",
       "  mean: -0.41796, std: 0.00178, params: {'gamma': 0.3},\n",
       "  mean: -0.41779, std: 0.00186, params: {'gamma': 0.4}],\n",
       " {'gamma': 0.4},\n",
       " -0.4177938102991205)"
      ]
     },
     "execution_count": 7,
     "metadata": {},
     "output_type": "execute_result"
    }
   ],
   "source": [
    "param_test3 = { 'gamma':[i/10.0 for i in range(0,5)] } \n",
    "gsearch3 = GridSearchCV(estimator = XGBRegressor( learning_rate =0.2, n_estimators=250, max_depth=5, \n",
    "                                                  min_child_weight=7, gamma=0, subsample=0.8, colsample_bytree=0.8, \n",
    "                                                  objective= 'reg:linear', nthread=4, scale_pos_weight=1,seed=27), \n",
    "                                                  param_grid = param_test3, scoring='neg_mean_absolute_error',\n",
    "                                                  n_jobs=4,iid=False, cv=5) \n",
    "gsearch3.fit(X_train, y_train) \n",
    "gsearch3.grid_scores_, gsearch3.best_params_, gsearch3.best_score_"
   ]
  },
  {
   "cell_type": "code",
   "execution_count": 10,
   "metadata": {
    "collapsed": false
   },
   "outputs": [
    {
     "name": "stdout",
     "output_type": "stream",
     "text": [
      "[0]\ttrain-mae:3030.36+1.1655\ttrain-rmse:5.79765+0.000297607\ttest-mae:3030.36+4.65948\ttest-rmse:5.79767+0.000881175\n",
      "[10]\ttrain-mae:1802.27+1.75148\ttrain-rmse:0.856233+0.000815014\ttest-mae:1803.57+4.79926\ttest-rmse:0.857431+0.00104387\n",
      "[20]\ttrain-mae:1237.06+1.11259\ttrain-rmse:0.5673+0.000821826\ttest-mae:1244.35+6.36058\ttest-rmse:0.570569+0.00126704\n",
      "[30]\ttrain-mae:1181.46+0.634856\ttrain-rmse:0.551419+0.000462042\ttest-mae:1193.19+4.72635\ttest-rmse:0.556243+0.000859283\n",
      "[40]\ttrain-mae:1163.37+1.3193\ttrain-rmse:0.54525+0.000530193\ttest-mae:1178.43+3.27754\ttest-rmse:0.551274+0.000461063\n",
      "[50]\ttrain-mae:1152.8+1.83037\ttrain-rmse:0.540948+0.000531695\ttest-mae:1170.9+2.8446\ttest-rmse:0.54823+0.000460096\n",
      "[60]\ttrain-mae:1145.27+1.34069\ttrain-rmse:0.537789+0.000352346\ttest-mae:1166.38+3.06704\ttest-rmse:0.546231+0.000507045\n",
      "[70]\ttrain-mae:1138.96+1.37608\ttrain-rmse:0.535153+0.000397696\ttest-mae:1163.25+2.43179\ttest-rmse:0.544835+0.000420131\n",
      "[80]\ttrain-mae:1133.89+1.19429\ttrain-rmse:0.533038+0.000337744\ttest-mae:1161.12+2.79351\ttest-rmse:0.543858+0.000542731\n",
      "[90]\ttrain-mae:1129.66+0.92194\ttrain-rmse:0.531356+0.000292644\ttest-mae:1160.12+2.63307\ttest-rmse:0.54331+0.000426047\n",
      "[100]\ttrain-mae:1125.65+1.0338\ttrain-rmse:0.529684+0.000254883\ttest-mae:1158.91+2.47512\ttest-rmse:0.542726+0.000385143\n",
      "[110]\ttrain-mae:1121.93+0.850991\ttrain-rmse:0.528199+0.000244777\ttest-mae:1157.8+2.42397\ttest-rmse:0.542276+0.000352998\n",
      "[120]\ttrain-mae:1118.8+0.78656\ttrain-rmse:0.526839+0.000255457\ttest-mae:1157.04+2.32959\ttest-rmse:0.541882+0.000295017\n",
      "[130]\ttrain-mae:1115.78+0.932049\ttrain-rmse:0.525623+0.000210174\ttest-mae:1156.55+2.57377\ttest-rmse:0.541644+0.000381183\n",
      "[140]\ttrain-mae:1112.92+1.15664\ttrain-rmse:0.524369+0.00021398\ttest-mae:1155.91+2.59715\ttest-rmse:0.541413+0.000363516\n",
      "[150]\ttrain-mae:1110.07+1.11332\ttrain-rmse:0.523241+0.00022001\ttest-mae:1155.75+2.3237\ttest-rmse:0.541243+0.000324792\n",
      "[160]\ttrain-mae:1107.47+1.29656\ttrain-rmse:0.522137+0.000230588\ttest-mae:1155.62+2.3777\ttest-rmse:0.541134+0.000375548\n",
      "[170]\ttrain-mae:1104.77+1.32589\ttrain-rmse:0.521044+0.000231178\ttest-mae:1155.38+2.19636\ttest-rmse:0.54095+0.000374163\n",
      "[180]\ttrain-mae:1102.13+1.33598\ttrain-rmse:0.519896+0.000250015\ttest-mae:1154.92+2.1499\ttest-rmse:0.540784+0.000347915\n",
      "[190]\ttrain-mae:1099.72+1.2483\ttrain-rmse:0.51884+0.000276519\ttest-mae:1154.74+2.07319\ttest-rmse:0.540649+0.000284285\n",
      "[200]\ttrain-mae:1097.16+1.40429\ttrain-rmse:0.517736+0.00035727\ttest-mae:1154.7+2.00481\ttest-rmse:0.540593+0.000247194\n",
      "[210]\ttrain-mae:1094.84+1.45683\ttrain-rmse:0.516764+0.000354309\ttest-mae:1154.68+1.98171\ttest-rmse:0.54054+0.000283997\n",
      "[220]\ttrain-mae:1092.33+1.67702\ttrain-rmse:0.515733+0.000415192\ttest-mae:1154.41+1.8197\ttest-rmse:0.54044+0.000219343\n",
      "[230]\ttrain-mae:1090.08+1.85965\ttrain-rmse:0.514762+0.000443288\ttest-mae:1154.33+1.98342\ttest-rmse:0.540381+0.000264486\n",
      "[240]\ttrain-mae:1087.66+1.76463\ttrain-rmse:0.513817+0.000446165\ttest-mae:1154.18+1.90271\ttest-rmse:0.540317+0.000246904\n",
      "[250]\ttrain-mae:1085.39+1.77605\ttrain-rmse:0.512922+0.000461561\ttest-mae:1154.12+1.80441\ttest-rmse:0.540268+0.000208699\n",
      "[260]\ttrain-mae:1083.21+2.19319\ttrain-rmse:0.512048+0.000546669\ttest-mae:1154.06+1.89511\ttest-rmse:0.540279+0.00025056\n",
      "[270]\ttrain-mae:1081.15+2.0565\ttrain-rmse:0.511131+0.000526163\ttest-mae:1154.01+1.93802\ttest-rmse:0.540238+0.000246677\n",
      "[280]\ttrain-mae:1079.17+1.94743\ttrain-rmse:0.510306+0.00047009\ttest-mae:1153.96+1.93094\ttest-rmse:0.540221+0.000227705\n",
      "[290]\ttrain-mae:1077.24+2.02218\ttrain-rmse:0.509438+0.000510325\ttest-mae:1154.21+1.96574\ttest-rmse:0.540273+0.00021507\n",
      "[300]\ttrain-mae:1075.18+2.04768\ttrain-rmse:0.508552+0.000520299\ttest-mae:1154.43+1.84777\ttest-rmse:0.540258+0.000137988\n",
      "CV-Mean: 1153.9596434+1.9404318885853302\n"
     ]
    },
    {
     "data": {
      "image/png": "[encoded data removed]",
      "text/plain": [
       "<matplotlib.figure.Figure at 0x7f0301a1c5c0>"
      ]
     },
     "metadata": {},
     "output_type": "display_data"
    }
   ],
   "source": [
    "# predictors = [x for x in X_train.columns ] \n",
    "xgb2 = XGBRegressor( learning_rate =0.2, \n",
    "                     n_estimators=1000, \n",
    "                     max_depth=5, min_child_weight=7, gamma=0.4, subsample=0.8, \n",
    "                     colsample_bytree=0.8, objective= 'reg:linear', nthread=8, \n",
    "                     scale_pos_weight=1, seed=27, silent=1)\n",
    "# xgb1.fit(X_train, y_train,eval_metric='mae')\n",
    "\n",
    "modelfit(xgb2, X_train, y_train)"
   ]
  },
  {
   "cell_type": "code",
   "execution_count": 13,
   "metadata": {
    "collapsed": false
   },
   "outputs": [
    {
     "data": {
      "text/plain": [
       "([mean: -0.41899, std: 0.00201, params: {'colsample_bytree': 0.6, 'subsample': 0.6},\n",
       "  mean: -0.41871, std: 0.00229, params: {'colsample_bytree': 0.6, 'subsample': 0.7},\n",
       "  mean: -0.41820, std: 0.00187, params: {'colsample_bytree': 0.6, 'subsample': 0.8},\n",
       "  mean: -0.41750, std: 0.00182, params: {'colsample_bytree': 0.6, 'subsample': 0.9},\n",
       "  mean: -0.41931, std: 0.00215, params: {'colsample_bytree': 0.7, 'subsample': 0.6},\n",
       "  mean: -0.41866, std: 0.00194, params: {'colsample_bytree': 0.7, 'subsample': 0.7},\n",
       "  mean: -0.41781, std: 0.00204, params: {'colsample_bytree': 0.7, 'subsample': 0.8},\n",
       "  mean: -0.41773, std: 0.00201, params: {'colsample_bytree': 0.7, 'subsample': 0.9},\n",
       "  mean: -0.41952, std: 0.00240, params: {'colsample_bytree': 0.8, 'subsample': 0.6},\n",
       "  mean: -0.41850, std: 0.00208, params: {'colsample_bytree': 0.8, 'subsample': 0.7},\n",
       "  mean: -0.41776, std: 0.00187, params: {'colsample_bytree': 0.8, 'subsample': 0.8},\n",
       "  mean: -0.41779, std: 0.00203, params: {'colsample_bytree': 0.8, 'subsample': 0.9},\n",
       "  mean: -0.41938, std: 0.00216, params: {'colsample_bytree': 0.9, 'subsample': 0.6},\n",
       "  mean: -0.41862, std: 0.00235, params: {'colsample_bytree': 0.9, 'subsample': 0.7},\n",
       "  mean: -0.41800, std: 0.00213, params: {'colsample_bytree': 0.9, 'subsample': 0.8},\n",
       "  mean: -0.41764, std: 0.00197, params: {'colsample_bytree': 0.9, 'subsample': 0.9}],\n",
       " {'colsample_bytree': 0.6, 'subsample': 0.9},\n",
       " -0.4175041373593647)"
      ]
     },
     "execution_count": 13,
     "metadata": {},
     "output_type": "execute_result"
    }
   ],
   "source": [
    "param_test4 = { 'subsample':[i/10.0 for i in range(6,10)], 'colsample_bytree':[i/10.0 for i in range(6,10)] }\n",
    "\n",
    "gsearch4 = GridSearchCV(estimator = XGBRegressor( learning_rate =0.2, n_estimators=280, max_depth=5, \n",
    "                                                  min_child_weight=7, gamma=0.4, subsample=0.8, colsample_bytree=0.8, \n",
    "                                                  objective= 'reg:linear', nthread=4, scale_pos_weight=1,seed=27), \n",
    "                                                  param_grid = param_test4, scoring='neg_mean_absolute_error',\n",
    "                                                  n_jobs=4,iid=False, cv=5) \n",
    "gsearch4.fit(X_train, y_train) \n",
    "gsearch4.grid_scores_, gsearch4.best_params_, gsearch4.best_score_"
   ]
  },
  {
   "cell_type": "code",
   "execution_count": 14,
   "metadata": {
    "collapsed": false
   },
   "outputs": [
    {
     "data": {
      "text/plain": [
       "([mean: -0.41811, std: 0.00212, params: {'colsample_bytree': 0.55, 'subsample': 0.85},\n",
       "  mean: -0.41763, std: 0.00198, params: {'colsample_bytree': 0.55, 'subsample': 0.9},\n",
       "  mean: -0.41787, std: 0.00219, params: {'colsample_bytree': 0.55, 'subsample': 0.95},\n",
       "  mean: -0.41777, std: 0.00187, params: {'colsample_bytree': 0.6, 'subsample': 0.85},\n",
       "  mean: -0.41750, std: 0.00182, params: {'colsample_bytree': 0.6, 'subsample': 0.9},\n",
       "  mean: -0.41765, std: 0.00223, params: {'colsample_bytree': 0.6, 'subsample': 0.95},\n",
       "  mean: -0.41747, std: 0.00215, params: {'colsample_bytree': 0.65, 'subsample': 0.85},\n",
       "  mean: -0.41789, std: 0.00202, params: {'colsample_bytree': 0.65, 'subsample': 0.9},\n",
       "  mean: -0.41753, std: 0.00215, params: {'colsample_bytree': 0.65, 'subsample': 0.95}],\n",
       " {'colsample_bytree': 0.65, 'subsample': 0.85},\n",
       " -0.4174665457812294)"
      ]
     },
     "execution_count": 14,
     "metadata": {},
     "output_type": "execute_result"
    }
   ],
   "source": [
    "param_test5 = { 'subsample':[i/100.0 for i in range(85,100,5)], 'colsample_bytree':[i/100.0 for i in range(55,70,5)] }\n",
    "\n",
    "gsearch5 = GridSearchCV(estimator = XGBRegressor( learning_rate =0.2, n_estimators=280, max_depth=5, \n",
    "                                                  min_child_weight=7, gamma=0.4, subsample=0.8, colsample_bytree=0.8, \n",
    "                                                  objective= 'reg:linear', nthread=4, scale_pos_weight=1,seed=27), \n",
    "                                                  param_grid = param_test5, scoring='neg_mean_absolute_error',\n",
    "                                                  n_jobs=4,iid=False, cv=5) \n",
    "gsearch5.fit(X_train, y_train) \n",
    "gsearch5.grid_scores_, gsearch5.best_params_, gsearch5.best_score_\n",
    "\n"
   ]
  },
  {
   "cell_type": "code",
   "execution_count": 17,
   "metadata": {
    "collapsed": false
   },
   "outputs": [
    {
     "data": {
      "text/plain": [
       "([mean: -0.41647, std: 0.00194, params: {'reg_alpha': 7.5},\n",
       "  mean: -0.41616, std: 0.00185, params: {'reg_alpha': 10},\n",
       "  mean: -0.41669, std: 0.00206, params: {'reg_alpha': 15}],\n",
       " {'reg_alpha': 10},\n",
       " -0.4161571571769295)"
      ]
     },
     "execution_count": 17,
     "metadata": {},
     "output_type": "execute_result"
    }
   ],
   "source": [
    "param_test6 = { 'reg_alpha':[7.5, 10, 15] }\n",
    "\n",
    "gsearch6 = GridSearchCV(estimator = XGBRegressor( learning_rate =0.2, n_estimators=280, max_depth=5, \n",
    "                                                  min_child_weight=7, gamma=0.4, subsample=0.85, colsample_bytree=0.65, \n",
    "                                                  objective= 'reg:linear', nthread=4, scale_pos_weight=1,seed=27), \n",
    "                                                  param_grid = param_test6, scoring='neg_mean_absolute_error',\n",
    "                                                  n_jobs=4,iid=False, cv=5) \n",
    "gsearch6.fit(X_train, y_train) \n",
    "gsearch6.grid_scores_, gsearch6.best_params_, gsearch6.best_score_"
   ]
  },
  {
   "cell_type": "code",
   "execution_count": 18,
   "metadata": {
    "collapsed": false
   },
   "outputs": [
    {
     "name": "stdout",
     "output_type": "stream",
     "text": [
      "[0]\ttrain-mae:3030.36+1.16547\ttrain-rmse:5.79826+0.000217483\ttest-mae:3030.36+4.65945\ttest-rmse:5.79824+0.00088668\n",
      "[10]\ttrain-mae:1811.98+2.17973\ttrain-rmse:0.860913+0.000652596\ttest-mae:1812.97+4.10497\ttest-rmse:0.86175+0.00102687\n",
      "[20]\ttrain-mae:1251.17+2.141\ttrain-rmse:0.57126+0.00050839\ttest-mae:1256.38+5.95309\ttest-rmse:0.573697+0.00162467\n",
      "[30]\ttrain-mae:1193.87+1.34688\ttrain-rmse:0.555232+0.000292916\ttest-mae:1202.14+5.75951\ttest-rmse:0.558871+0.00142274\n",
      "[40]\ttrain-mae:1174.95+1.63983\ttrain-rmse:0.548526+0.000505322\ttest-mae:1185.51+5.15721\ttest-rmse:0.552959+0.00106833\n",
      "[50]\ttrain-mae:1164.17+1.34211\ttrain-rmse:0.544451+0.000372654\ttest-mae:1177.01+4.94742\ttest-rmse:0.54969+0.000728442\n",
      "[60]\ttrain-mae:1157.12+1.24824\ttrain-rmse:0.541669+0.000299676\ttest-mae:1171.63+5.33434\ttest-rmse:0.547625+0.000854838\n",
      "[70]\ttrain-mae:1151.4+1.11502\ttrain-rmse:0.539357+0.000208112\ttest-mae:1167.59+5.30462\ttest-rmse:0.545968+0.00077168\n",
      "[80]\ttrain-mae:1146.72+1.33118\ttrain-rmse:0.537409+0.000348856\ttest-mae:1164.46+4.63124\ttest-rmse:0.544715+0.000614235\n",
      "[90]\ttrain-mae:1143.19+1.51484\ttrain-rmse:0.535916+0.000430754\ttest-mae:1162.34+4.52838\ttest-rmse:0.543843+0.000686941\n",
      "[100]\ttrain-mae:1139.79+1.6694\ttrain-rmse:0.534505+0.000457412\ttest-mae:1160.52+4.56931\ttest-rmse:0.543092+0.000667155\n",
      "[110]\ttrain-mae:1136.59+1.48487\ttrain-rmse:0.533193+0.000415696\ttest-mae:1158.96+4.52161\ttest-rmse:0.542484+0.000584469\n",
      "[120]\ttrain-mae:1133.81+1.47827\ttrain-rmse:0.532098+0.000474843\ttest-mae:1157.72+4.71729\ttest-rmse:0.541999+0.000638372\n",
      "[130]\ttrain-mae:1131.02+1.42851\ttrain-rmse:0.531005+0.000403458\ttest-mae:1156.21+4.22167\ttest-rmse:0.541484+0.000563149\n",
      "[140]\ttrain-mae:1128.54+1.46507\ttrain-rmse:0.529968+0.00039661\ttest-mae:1155.21+4.36827\ttest-rmse:0.541065+0.000559431\n",
      "[150]\ttrain-mae:1126.04+1.43974\ttrain-rmse:0.528948+0.00042026\ttest-mae:1154.34+4.26831\ttest-rmse:0.540738+0.000594736\n",
      "[160]\ttrain-mae:1123.79+1.59423\ttrain-rmse:0.52799+0.000483449\ttest-mae:1153.52+4.25987\ttest-rmse:0.540434+0.000587968\n",
      "[170]\ttrain-mae:1121.62+1.41603\ttrain-rmse:0.527053+0.000376272\ttest-mae:1152.81+4.31728\ttest-rmse:0.540111+0.000630669\n",
      "[180]\ttrain-mae:1119.48+1.40884\ttrain-rmse:0.526136+0.000327042\ttest-mae:1152.22+4.23563\ttest-rmse:0.539857+0.000616166\n",
      "[190]\ttrain-mae:1117.39+1.35736\ttrain-rmse:0.525242+0.000318994\ttest-mae:1151.59+4.01405\ttest-rmse:0.539646+0.000534605\n",
      "[200]\ttrain-mae:1115.69+1.32466\ttrain-rmse:0.524513+0.000287563\ttest-mae:1151.22+4.05066\ttest-rmse:0.539505+0.000562084\n",
      "[210]\ttrain-mae:1113.85+1.31563\ttrain-rmse:0.523746+0.000283518\ttest-mae:1150.77+3.96341\ttest-rmse:0.539343+0.000534082\n",
      "[220]\ttrain-mae:1111.92+1.39772\ttrain-rmse:0.522952+0.000297727\ttest-mae:1150.28+3.96796\ttest-rmse:0.539162+0.00055038\n",
      "[230]\ttrain-mae:1110.27+1.37009\ttrain-rmse:0.522185+0.000286683\ttest-mae:1150.1+3.94852\ttest-rmse:0.539038+0.00053979\n",
      "[240]\ttrain-mae:1108.38+1.29025\ttrain-rmse:0.521431+0.000310907\ttest-mae:1149.69+3.93492\ttest-rmse:0.538898+0.000532075\n",
      "[250]\ttrain-mae:1106.7+1.11338\ttrain-rmse:0.520741+0.000267017\ttest-mae:1149.46+3.95108\ttest-rmse:0.538814+0.000524307\n",
      "[260]\ttrain-mae:1105.22+1.06067\ttrain-rmse:0.520072+0.000273026\ttest-mae:1149.2+4.03816\ttest-rmse:0.53875+0.00052022\n",
      "[270]\ttrain-mae:1103.61+1.22342\ttrain-rmse:0.519393+0.000302947\ttest-mae:1149.11+4.05994\ttest-rmse:0.538692+0.00054793\n",
      "[280]\ttrain-mae:1102.18+1.17392\ttrain-rmse:0.518744+0.000306114\ttest-mae:1148.84+4.13102\ttest-rmse:0.538611+0.000572348\n",
      "[290]\ttrain-mae:1100.67+1.16306\ttrain-rmse:0.518082+0.000316078\ttest-mae:1148.64+4.13137\ttest-rmse:0.538528+0.000588763\n",
      "[300]\ttrain-mae:1099.27+1.27848\ttrain-rmse:0.517467+0.000336923\ttest-mae:1148.76+4.14542\ttest-rmse:0.538506+0.000597231\n",
      "[310]\ttrain-mae:1097.87+1.19843\ttrain-rmse:0.516863+0.000326793\ttest-mae:1148.57+4.21503\ttest-rmse:0.538444+0.000593054\n",
      "[320]\ttrain-mae:1096.41+1.07152\ttrain-rmse:0.516244+0.000277816\ttest-mae:1148.43+4.30713\ttest-rmse:0.538381+0.000623011\n",
      "[330]\ttrain-mae:1094.9+1.10882\ttrain-rmse:0.51561+0.00028637\ttest-mae:1148.33+4.27703\ttest-rmse:0.538339+0.00061241\n",
      "[340]\ttrain-mae:1093.52+0.962055\ttrain-rmse:0.515033+0.000289322\ttest-mae:1148.29+4.41877\ttest-rmse:0.538336+0.000627597\n",
      "[350]\ttrain-mae:1092.28+1.05508\ttrain-rmse:0.514504+0.000284982\ttest-mae:1148.15+4.19601\ttest-rmse:0.538339+0.000586463\n",
      "[360]\ttrain-mae:1090.97+1.10092\ttrain-rmse:0.51395+0.00026836\ttest-mae:1147.96+4.22618\ttest-rmse:0.538291+0.000613835\n",
      "[370]\ttrain-mae:1089.74+1.07595\ttrain-rmse:0.513384+0.000249794\ttest-mae:1147.85+4.01886\ttest-rmse:0.538243+0.000587023\n",
      "[380]\ttrain-mae:1088.65+1.02938\ttrain-rmse:0.512882+0.000233401\ttest-mae:1147.93+4.15762\ttest-rmse:0.538248+0.000614663\n",
      "[390]\ttrain-mae:1087.38+0.915125\ttrain-rmse:0.512352+0.000203635\ttest-mae:1147.92+4.07121\ttest-rmse:0.538259+0.00057092\n",
      "[400]\ttrain-mae:1086.16+0.880069\ttrain-rmse:0.511771+0.00015766\ttest-mae:1147.76+4.00434\ttest-rmse:0.538165+0.000570219\n",
      "[410]\ttrain-mae:1084.86+0.957168\ttrain-rmse:0.511188+0.000189151\ttest-mae:1147.67+4.01823\ttest-rmse:0.538144+0.000534201\n",
      "[420]\ttrain-mae:1083.69+0.866715\ttrain-rmse:0.510685+0.000191384\ttest-mae:1147.57+4.01882\ttest-rmse:0.538098+0.000513589\n",
      "[430]\ttrain-mae:1082.58+0.832472\ttrain-rmse:0.510186+0.000199393\ttest-mae:1147.45+4.01559\ttest-rmse:0.538072+0.000501766\n",
      "[440]\ttrain-mae:1081.41+0.853643\ttrain-rmse:0.509651+0.000221051\ttest-mae:1147.42+4.02557\ttest-rmse:0.538064+0.000482865\n",
      "[450]\ttrain-mae:1080.37+0.855309\ttrain-rmse:0.50914+0.000180334\ttest-mae:1147.48+3.93986\ttest-rmse:0.53806+0.000472758\n",
      "[460]\ttrain-mae:1079.28+0.847898\ttrain-rmse:0.508642+0.000169851\ttest-mae:1147.46+3.92342\ttest-rmse:0.538051+0.000480572\n",
      "[470]\ttrain-mae:1078.2+0.764877\ttrain-rmse:0.508165+0.000174781\ttest-mae:1147.54+3.87726\ttest-rmse:0.538071+0.000470224\n",
      "CV-Mean: 1147.4090333999998+3.958601435748167\n"
     ]
    },
    {
     "data": {
      "image/png": "[encoded data removed]",
      "text/plain": [
       "<matplotlib.figure.Figure at 0x7f02ec304b38>"
      ]
     },
     "metadata": {},
     "output_type": "display_data"
    }
   ],
   "source": [
    "# predictors = [x for x in X_train.columns ] \n",
    "xgb3 = XGBRegressor( learning_rate =0.2, \n",
    "                     n_estimators=1000, reg_alpha=10,\n",
    "                     max_depth=5, min_child_weight=7, gamma=0.4, subsample=0.85, \n",
    "                     colsample_bytree=0.65, objective= 'reg:linear', nthread=8, \n",
    "                     scale_pos_weight=1, seed=27, silent=1)\n",
    "# xgb1.fit(X_train, y_train,eval_metric='mae')\n",
    "\n",
    "modelfit(xgb3, X_train, y_train)"
   ]
  },
  {
   "cell_type": "code",
   "execution_count": 20,
   "metadata": {
    "collapsed": false
   },
   "outputs": [
    {
     "data": {
      "text/plain": [
       "([mean: -0.41616, std: 0.00185, params: {'learning_rate': 0.2},\n",
       "  mean: -0.41737, std: 0.00197, params: {'learning_rate': 0.3},\n",
       "  mean: -0.42132, std: 0.00150, params: {'learning_rate': 0.5}],\n",
       " {'learning_rate': 0.2},\n",
       " -0.4161571571769295)"
      ]
     },
     "execution_count": 20,
     "metadata": {},
     "output_type": "execute_result"
    }
   ],
   "source": [
    "param_test7 = { 'learning_rate':[0.2, 0.3, 0.5] }\n",
    "\n",
    "gsearch7 = GridSearchCV(estimator = XGBRegressor( learning_rate =0.2, n_estimators=280, max_depth=5, reg_alpha=10,\n",
    "                                                  min_child_weight=7, gamma=0.4, subsample=0.85, colsample_bytree=0.65, \n",
    "                                                  objective= 'reg:linear', nthread=4, scale_pos_weight=1,seed=27), \n",
    "                                                  param_grid = param_test7, scoring='neg_mean_absolute_error',\n",
    "                                                  n_jobs=4,iid=False, cv=5) \n",
    "gsearch7.fit(X_train, y_train) \n",
    "gsearch7.grid_scores_, gsearch7.best_params_, gsearch7.best_score_"
   ]
  },
  {
   "cell_type": "code",
   "execution_count": 21,
   "metadata": {
    "collapsed": true
   },
   "outputs": [],
   "source": [
    "xgbr = XGBRegressor(learning_rate =0.2, n_estimators=280, max_depth=5, reg_alpha=10, min_child_weight=7, \n",
    "                    gamma=0.4, subsample=0.85, colsample_bytree=0.65, \n",
    "                    objective= 'reg:linear', nthread=4, scale_pos_weight=1,seed=27)"
   ]
  },
  {
   "cell_type": "code",
   "execution_count": 28,
   "metadata": {
    "collapsed": true
   },
   "outputs": [],
   "source": [
    "gbm = xgbr.fit(X_train, y_train, eval_metric='mae') "
   ]
  },
  {
   "cell_type": "code",
   "execution_count": 29,
   "metadata": {
    "collapsed": false
   },
   "outputs": [],
   "source": [
    "y_pred = gbm.predict(X_test)"
   ]
  },
  {
   "cell_type": "code",
   "execution_count": 30,
   "metadata": {
    "collapsed": true
   },
   "outputs": [],
   "source": [
    "y_pred = np.exp(y_pred)\n",
    "output = pd.DataFrame({\n",
    "        \"ID\": df_test[\"id\"],\n",
    "        \"loss\": y_pred[:]\n",
    "    })\n",
    "output.to_csv(\"../input/xgb_output.csv\", index=False)"
   ]
  },
  {
   "cell_type": "code",
   "execution_count": null,
   "metadata": {
    "collapsed": true
   },
   "outputs": [],
   "source": []
  }
 ],
 "metadata": {
  "kernelspec": {
   "display_name": "Python 3",
   "language": "python",
   "name": "python3"
  },
  "language_info": {
   "codemirror_mode": {
    "name": "ipython",
    "version": 3
   },
   "file_extension": ".py",
   "mimetype": "text/x-python",
   "name": "python",
   "nbconvert_exporter": "python",
   "pygments_lexer": "ipython3",
   "version": "3.5.2"
  }
 },
 "nbformat": 4,
 "nbformat_minor": 0
}
