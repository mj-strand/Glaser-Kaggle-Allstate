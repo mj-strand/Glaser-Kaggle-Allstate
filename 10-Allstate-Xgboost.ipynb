{
 "cells": [
  {
   "cell_type": "code",
   "execution_count": null,
   "metadata": {
    "collapsed": true
   },
   "outputs": [],
   "source": []
  },
  {
   "cell_type": "code",
   "execution_count": 75,
   "metadata": {
    "collapsed": false
   },
   "outputs": [],
   "source": [
    "import pandas as pd\n",
    "\n",
    "\n",
    "import numpy as np\n",
    "\n",
    "\n",
    "import xgboost as xgb\n",
    "# machine learning\n",
    "from sklearn.ensemble import RandomForestRegressor\n",
    "from sklearn import cross_validation\n"
   ]
  },
  {
   "cell_type": "code",
   "execution_count": 76,
   "metadata": {
    "collapsed": true
   },
   "outputs": [],
   "source": [
    "# get training & test csv files as a DataFrame\n",
    "df_train = pd.read_csv(\"../input/train.csv\" )\n",
    "df_test    = pd.read_csv(\"../input/test.csv\")"
   ]
  },
  {
   "cell_type": "code",
   "execution_count": 77,
   "metadata": {
    "collapsed": false
   },
   "outputs": [],
   "source": [
    "y_train = np.log(df_train['loss'].ravel())\n",
    "\n",
    "X_train = df_train.copy()\n",
    "X_test = df_test.copy()\n",
    "\n",
    "X_train.drop(['id', 'loss'], axis=1, inplace=True)\n",
    "X_test.drop(['id'], axis=1, inplace=True)\n",
    "\n"
   ]
  },
  {
   "cell_type": "code",
   "execution_count": 78,
   "metadata": {
    "collapsed": false
   },
   "outputs": [
    {
     "name": "stdout",
     "output_type": "stream",
     "text": [
      "(188318, 130),(125546, 130)\n",
      "   cat1  cat2  cat3  cat4  cat5  cat6  cat7  cat8  cat9  cat10    ...     \\\n",
      "0     0     1     0     1     0     0     0     0     1      0    ...      \n",
      "1     0     1     0     0     0     0     0     0     1      1    ...      \n",
      "2     0     1     0     0     1     0     0     0     1      1    ...      \n",
      "3     1     1     0     1     0     0     0     0     1      0    ...      \n",
      "4     0     1     0     1     0     0     0     0     1      1    ...      \n",
      "\n",
      "      cont5     cont6     cont7    cont8    cont9   cont10    cont11  \\\n",
      "0  0.310061  0.718367  0.335060  0.30260  0.67135  0.83510  0.569745   \n",
      "1  0.885834  0.438917  0.436585  0.60087  0.35127  0.43919  0.338312   \n",
      "2  0.397069  0.289648  0.315545  0.27320  0.26076  0.32446  0.381398   \n",
      "3  0.422268  0.440945  0.391128  0.31796  0.32128  0.44467  0.327915   \n",
      "4  0.704268  0.178193  0.247408  0.24564  0.22089  0.21230  0.204687   \n",
      "\n",
      "     cont12    cont13    cont14  \n",
      "0  0.594646  0.822493  0.714843  \n",
      "1  0.366307  0.611431  0.304496  \n",
      "2  0.373424  0.195709  0.774425  \n",
      "3  0.321570  0.605077  0.602642  \n",
      "4  0.202213  0.246011  0.432606  \n",
      "\n",
      "[5 rows x 130 columns]\n",
      "(188318, 130),(125546, 130)\n"
     ]
    }
   ],
   "source": [
    "print(\"{},{}\".format(X_train.shape, X_test.shape))\n",
    "\n",
    "ntrain = X_train.shape[0]\n",
    "train_test = pd.concat((X_train, X_test)).reset_index(drop=True)\n",
    "\n",
    "features = X_train.columns\n",
    "\n",
    "cats = [feat for feat in features if 'cat' in feat]\n",
    "for feat in cats:\n",
    "    train_test[feat] = pd.factorize(train_test[feat], sort=True)[0]\n",
    "\n",
    "print(train_test.head())\n",
    "\n",
    "X_train = np.array(train_test.iloc[:ntrain,:])\n",
    "X_test = np.array(train_test.iloc[ntrain:,:])\n",
    "\n",
    "print(\"{},{}\".format(X_train.shape, X_test.shape))\n"
   ]
  },
  {
   "cell_type": "code",
   "execution_count": 79,
   "metadata": {
    "collapsed": false
   },
   "outputs": [
    {
     "data": {
      "text/plain": [
       "'\\nfeat_labels = X_train.columns\\nforest = RandomForestRegressor(n_estimators=500, random_state=0, n_jobs=-1)\\nforest.fit(X_train, y_train)\\nimportances = forest.feature_importances_\\nindices = np.argsort(importances)[::-1]\\nimportances\\n'"
      ]
     },
     "execution_count": 79,
     "metadata": {},
     "output_type": "execute_result"
    }
   ],
   "source": [
    "# Find the features that really matter in data set using Random Forest Classifier\n",
    "'''\n",
    "feat_labels = X_train.columns\n",
    "forest = RandomForestRegressor(n_estimators=500, random_state=0, n_jobs=-1)\n",
    "forest.fit(X_train, y_train)\n",
    "importances = forest.feature_importances_\n",
    "indices = np.argsort(importances)[::-1]\n",
    "importances\n",
    "'''"
   ]
  },
  {
   "cell_type": "code",
   "execution_count": 80,
   "metadata": {
    "collapsed": false
   },
   "outputs": [
    {
     "data": {
      "text/plain": [
       "'\\nfor f in range(X_train.shape[1]):\\n    print(\"%2d) %-*s %f\" % (f + 1, 30, feat_labels[indices[f]], importances[indices[f]]))\\n'"
      ]
     },
     "execution_count": 80,
     "metadata": {},
     "output_type": "execute_result"
    }
   ],
   "source": [
    "# identify the list of top features\n",
    "'''\n",
    "for f in range(X_train.shape[1]):\n",
    "    print(\"%2d) %-*s %f\" % (f + 1, 30, feat_labels[indices[f]], importances[indices[f]]))\n",
    "'''"
   ]
  },
  {
   "cell_type": "code",
   "execution_count": 81,
   "metadata": {
    "collapsed": false
   },
   "outputs": [
    {
     "data": {
      "text/plain": [
       "'\\nX_train = forest.transform(X_train, threshold=.005)\\nX_test = forest.transform(X_test, threshold=.005)\\n'"
      ]
     },
     "execution_count": 81,
     "metadata": {},
     "output_type": "execute_result"
    }
   ],
   "source": [
    "# Use only top features\n",
    "'''\n",
    "X_train = forest.transform(X_train, threshold=.005)\n",
    "X_test = forest.transform(X_test, threshold=.005)\n",
    "'''"
   ]
  },
  {
   "cell_type": "code",
   "execution_count": 82,
   "metadata": {
    "collapsed": false
   },
   "outputs": [
    {
     "data": {
      "text/plain": [
       "'\\nfrom sklearn.cross_validation import train_test_split\\nX_train, X_test, y_train, y_test = train_test_split(X_train, y_train, test_size=0.20, random_state=0)\\n'"
      ]
     },
     "execution_count": 82,
     "metadata": {},
     "output_type": "execute_result"
    }
   ],
   "source": [
    "# in addition to the original data sets for training (train_orig)and testing (test_orig)\n",
    "# split train_orig data into training and testing sets randomly so we can obtain a practice test set with outcomes\n",
    "'''\n",
    "from sklearn.cross_validation import train_test_split\n",
    "X_train, X_test, y_train, y_test = train_test_split(X_train, y_train, test_size=0.20, random_state=0)\n",
    "'''"
   ]
  },
  {
   "cell_type": "code",
   "execution_count": 83,
   "metadata": {
    "collapsed": true
   },
   "outputs": [],
   "source": [
    "# Xgboost \n",
    "\n",
    "params = {\n",
    "    'seed': 0,\n",
    "    'colsample_bytree': 0.7,\n",
    "    'silent': 1,\n",
    "    'subsample': 0.7,\n",
    "    'learning_rate': 0.075,\n",
    "    'objective': 'reg:linear',\n",
    "    'max_depth': 6,\n",
    "    'num_parallel_tree': 1,\n",
    "    'min_child_weight': 1,\n",
    "    'eval_metric': 'mae',\n",
    "}\n",
    "\n",
    "\n",
    "T_train_xgb = xgb.DMatrix(X_train, label=y_train)\n",
    "X_test_xgb  = xgb.DMatrix(X_test)\n",
    "\n",
    "\n",
    "\n"
   ]
  },
  {
   "cell_type": "code",
   "execution_count": 84,
   "metadata": {
    "collapsed": false
   },
   "outputs": [
    {
     "name": "stdout",
     "output_type": "stream",
     "text": [
      "[0]\ttrain-mae:1520.58+1513.93\ttest-mae:1520.58+1513.93\n",
      "[10]\ttrain-mae:1466.45+1463.4\ttest-mae:1466.45+1463.4\n",
      "[20]\ttrain-mae:1227.98+1226.57\ttest-mae:1228.13+1226.73\n",
      "[30]\ttrain-mae:908.754+908.031\ttest-mae:910.17+909.449\n",
      "[40]\ttrain-mae:714.059+713.55\ttest-mae:717.94+717.434\n",
      "[50]\ttrain-mae:633.703+633.252\ttest-mae:639.877+639.427\n",
      "[60]\ttrain-mae:601.668+601.235\ttest-mae:609.71+609.277\n",
      "[70]\ttrain-mae:587.401+586.975\ttest-mae:597.233+596.806\n",
      "[80]\ttrain-mae:579.622+579.201\ttest-mae:590.932+590.507\n",
      "[90]\ttrain-mae:574.819+574.401\ttest-mae:587.372+586.949\n",
      "[100]\ttrain-mae:571.05+570.635\ttest-mae:584.806+584.384\n",
      "[110]\ttrain-mae:568.044+567.631\ttest-mae:582.942+582.521\n",
      "[120]\ttrain-mae:565.44+565.028\ttest-mae:581.534+581.115\n",
      "[130]\ttrain-mae:563.407+562.997\ttest-mae:580.494+580.075\n",
      "[140]\ttrain-mae:561.364+560.955\ttest-mae:579.554+579.135\n",
      "[150]\ttrain-mae:559.599+559.192\ttest-mae:578.813+578.395\n",
      "[160]\ttrain-mae:557.825+557.418\ttest-mae:578.073+577.656\n",
      "[170]\ttrain-mae:556.212+555.807\ttest-mae:577.494+577.077\n",
      "[180]\ttrain-mae:554.713+554.309\ttest-mae:577.038+576.622\n",
      "[190]\ttrain-mae:553.372+552.968\ttest-mae:576.714+576.298\n",
      "[200]\ttrain-mae:552.19+551.788\ttest-mae:576.442+576.026\n",
      "[210]\ttrain-mae:550.976+550.574\ttest-mae:576.105+575.689\n",
      "[220]\ttrain-mae:549.828+549.427\ttest-mae:575.891+575.475\n",
      "[230]\ttrain-mae:548.645+548.244\ttest-mae:575.546+575.131\n",
      "[240]\ttrain-mae:547.47+547.071\ttest-mae:575.217+574.801\n",
      "[250]\ttrain-mae:546.361+545.962\ttest-mae:574.991+574.577\n",
      "[260]\ttrain-mae:545.254+544.856\ttest-mae:574.776+574.361\n",
      "[270]\ttrain-mae:544.258+543.86\ttest-mae:574.604+574.189\n",
      "[280]\ttrain-mae:543.241+542.844\ttest-mae:574.38+573.965\n",
      "[290]\ttrain-mae:542.176+541.78\ttest-mae:574.216+573.802\n",
      "[300]\ttrain-mae:541.204+540.808\ttest-mae:574.115+573.7\n",
      "[310]\ttrain-mae:540.227+539.832\ttest-mae:574+573.585\n",
      "[320]\ttrain-mae:539.316+538.921\ttest-mae:573.917+573.503\n",
      "[330]\ttrain-mae:538.331+537.937\ttest-mae:573.741+573.327\n",
      "[340]\ttrain-mae:537.473+537.08\ttest-mae:573.718+573.304\n",
      "[350]\ttrain-mae:536.593+536.2\ttest-mae:573.692+573.278\n",
      "[360]\ttrain-mae:535.715+535.323\ttest-mae:573.655+573.24\n",
      "[370]\ttrain-mae:534.876+534.484\ttest-mae:573.62+573.206\n",
      "[380]\ttrain-mae:533.93+533.539\ttest-mae:573.547+573.132\n",
      "[390]\ttrain-mae:533.022+532.632\ttest-mae:573.527+573.112\n",
      "[400]\ttrain-mae:532.177+531.787\ttest-mae:573.533+573.119\n",
      "[410]\ttrain-mae:531.296+530.906\ttest-mae:573.471+573.058\n",
      "[420]\ttrain-mae:530.476+530.087\ttest-mae:573.406+572.992\n",
      "[430]\ttrain-mae:529.694+529.306\ttest-mae:573.356+572.942\n",
      "[440]\ttrain-mae:528.832+528.444\ttest-mae:573.352+572.938\n",
      "[450]\ttrain-mae:527.981+527.593\ttest-mae:573.364+572.951\n",
      "CV-Mean: 573.3335145+572.9195695827033\n"
     ]
    }
   ],
   "source": [
    "from sklearn.metrics import mean_absolute_error\n",
    "\n",
    "def xg_eval_mae(yhat, T_train_xgb):\n",
    "    y = T_train_xgb.get_label()\n",
    "    return 'mae', mean_absolute_error(np.exp(y), np.exp(yhat))\n",
    "\n",
    "res = xgb.cv(params, T_train_xgb, num_boost_round=750, nfold=4, seed=2016, stratified=False,\n",
    "             early_stopping_rounds=15, verbose_eval=10, show_stdv=True, feval=xg_eval_mae, maximize=False)\n",
    "\n",
    "best_nrounds = res.shape[0] - 1\n",
    "cv_mean = res.iloc[-1, 0]\n",
    "cv_std = res.iloc[-1, 1]\n",
    "print('CV-Mean: {0}+{1}'.format(cv_mean, cv_std))"
   ]
  },
  {
   "cell_type": "code",
   "execution_count": 86,
   "metadata": {
    "collapsed": false
   },
   "outputs": [],
   "source": [
    "gbm = xgb.train(params, T_train_xgb, best_nrounds)\n",
    "y_pred = gbm.predict(X_test_xgb)"
   ]
  },
  {
   "cell_type": "code",
   "execution_count": 88,
   "metadata": {
    "collapsed": true
   },
   "outputs": [],
   "source": [
    "y_pred = np.exp(y_pred)\n",
    "output = pd.DataFrame({\n",
    "        \"ID\": df_test[\"id\"],\n",
    "        \"loss\": y_pred[:]\n",
    "    })\n",
    "output.to_csv(\"../input/xgb_output.csv\", index=False)"
   ]
  },
  {
   "cell_type": "code",
   "execution_count": null,
   "metadata": {
    "collapsed": true
   },
   "outputs": [],
   "source": []
  }
 ],
 "metadata": {
  "kernelspec": {
   "display_name": "Python 3",
   "language": "python",
   "name": "python3"
  },
  "language_info": {
   "codemirror_mode": {
    "name": "ipython",
    "version": 3
   },
   "file_extension": ".py",
   "mimetype": "text/x-python",
   "name": "python",
   "nbconvert_exporter": "python",
   "pygments_lexer": "ipython3",
   "version": "3.5.2"
  }
 },
 "nbformat": 4,
 "nbformat_minor": 0
}
